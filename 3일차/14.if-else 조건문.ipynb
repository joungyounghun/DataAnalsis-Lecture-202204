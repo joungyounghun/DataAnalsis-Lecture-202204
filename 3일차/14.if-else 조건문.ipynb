{
 "cells": [
  {
   "cell_type": "markdown",
   "metadata": {},
   "source": [
    "Unit 14. 조건문 if - else"
   ]
  },
  {
   "cell_type": "markdown",
   "metadata": {},
   "source": [
    "14.1 else"
   ]
  },
  {
   "cell_type": "code",
   "execution_count": 1,
   "metadata": {},
   "outputs": [],
   "source": [
    "import random"
   ]
  },
  {
   "cell_type": "code",
   "execution_count": 2,
   "metadata": {},
   "outputs": [
    {
     "name": "stdout",
     "output_type": "stream",
     "text": [
      "작은 수\n",
      "1\n"
     ]
    }
   ],
   "source": [
    "x = random.randint(1, 6)\n",
    "if x >= 4:\n",
    "    print('큰 수')\n",
    "else:\n",
    "    print('작은 수')\n",
    "print(x)"
   ]
  },
  {
   "cell_type": "code",
   "execution_count": 3,
   "metadata": {},
   "outputs": [
    {
     "name": "stdout",
     "output_type": "stream",
     "text": [
      "홀수\n",
      "3\n"
     ]
    }
   ],
   "source": [
    "x = random.randint(1, 6)\n",
    "if x % 2 == 0:\n",
    "    print('짝수')\n",
    "else:\n",
    "    print('홀수')\n",
    "print(x)"
   ]
  },
  {
   "cell_type": "code",
   "execution_count": 4,
   "metadata": {},
   "outputs": [
    {
     "name": "stdout",
     "output_type": "stream",
     "text": [
      "6 even number\n"
     ]
    }
   ],
   "source": [
    "x = random.randint(1, 6)\n",
    "if x % 2 == 0:\n",
    "    result = 'even number'\n",
    "else:\n",
    "    result = 'odd number'\n",
    "print(x, result)"
   ]
  },
  {
   "cell_type": "markdown",
   "metadata": {},
   "source": [
    "조건부 표현식(3항 연산자)"
   ]
  },
  {
   "cell_type": "code",
   "execution_count": 5,
   "metadata": {},
   "outputs": [
    {
     "name": "stdout",
     "output_type": "stream",
     "text": [
      "6 짝수\n"
     ]
    }
   ],
   "source": [
    "# Java, JS에서는  result = x % 2 == 0 ? \"even\" : \"odd\" ;\n",
    "result = '짝수' if x % 2 == 0 else '홀수'\n",
    "print(x, result)"
   ]
  },
  {
   "cell_type": "markdown",
   "metadata": {},
   "source": [
    "14.2 else와 들여쓰기"
   ]
  },
  {
   "cell_type": "code",
   "execution_count": 6,
   "metadata": {},
   "outputs": [
    {
     "name": "stdout",
     "output_type": "stream",
     "text": [
      "10입니다.\n",
      "10이 아닙니다.\n"
     ]
    }
   ],
   "source": [
    "x = 10\n",
    "if x == 10:\n",
    "    print('10입니다.') \n",
    "else:\n",
    "    print('x에 들어있는 숫자는')\n",
    "print('10이 아닙니다.')"
   ]
  },
  {
   "cell_type": "code",
   "execution_count": 7,
   "metadata": {},
   "outputs": [
    {
     "name": "stdout",
     "output_type": "stream",
     "text": [
      "10입니다.\n"
     ]
    }
   ],
   "source": [
    "if x == 10:\n",
    "    print('10입니다.') \n",
    "else:\n",
    "    print('x에 들어있는 숫자는')\n",
    "    print('10이 아닙니다.')"
   ]
  },
  {
   "cell_type": "markdown",
   "metadata": {},
   "source": [
    "14.3 동작 방식"
   ]
  },
  {
   "cell_type": "code",
   "execution_count": 8,
   "metadata": {},
   "outputs": [
    {
     "name": "stdout",
     "output_type": "stream",
     "text": [
      "0, 0.0, \"\", False, None 입니다.\n"
     ]
    }
   ],
   "source": [
    "x = 0.0\n",
    "if x:\n",
    "    print(x)\n",
    "else:\n",
    "    print('0, 0.0, \"\", False, None 입니다.')"
   ]
  },
  {
   "cell_type": "markdown",
   "metadata": {},
   "source": [
    "14.4 여러개의 조건식"
   ]
  },
  {
   "cell_type": "code",
   "execution_count": 9,
   "metadata": {},
   "outputs": [
    {
     "name": "stdout",
     "output_type": "stream",
     "text": [
      "FizzBuzz\n"
     ]
    }
   ],
   "source": [
    "# 3과 5의  공배수면 FizzBuzz를 출력\n",
    "# 위의 경우가 아니면 숫자값을 출력\n",
    "\n",
    "x = 30\n",
    "if x % 3 == 0 and x % 5 == 0:\n",
    "    print('FizzBuzz')\n",
    "else:\n",
    "    print(x)"
   ]
  },
  {
   "cell_type": "code",
   "execution_count": 10,
   "metadata": {},
   "outputs": [
    {
     "name": "stdout",
     "output_type": "stream",
     "text": [
      "10이상이고 20이하\n"
     ]
    }
   ],
   "source": [
    "x = 14\n",
    "if x >= 10 and x <= 20:\n",
    "    print('10이상이고 20이하')\n",
    "else:\n",
    "    print(x)"
   ]
  },
  {
   "cell_type": "code",
   "execution_count": 11,
   "metadata": {},
   "outputs": [
    {
     "name": "stdout",
     "output_type": "stream",
     "text": [
      "10이상이고 20이하\n"
     ]
    }
   ],
   "source": [
    "if 10 <= x <= 20:\n",
    "    print('10이상이고 20이하')\n",
    "else:\n",
    "    print(x)"
   ]
  },
  {
   "cell_type": "markdown",
   "metadata": {},
   "source": [
    "연습문제"
   ]
  },
  {
   "cell_type": "markdown",
   "metadata": {},
   "source": [
    "4로 나누어지면 윤년\n",
    "100으로 나누어지면 평년\n",
    "400으로 나누어지면 윤년\n",
    "그외 평년"
   ]
  },
  {
   "cell_type": "code",
   "execution_count": 12,
   "metadata": {},
   "outputs": [
    {
     "name": "stdout",
     "output_type": "stream",
     "text": [
      "2004 윤년\n"
     ]
    }
   ],
   "source": [
    "# 테스트 케이스: 1900, 1901, 2000, 2004\n",
    "x = 2004\n",
    "if x % 4 == 0:\n",
    "    if x % 100 == 0:\n",
    "        if x % 400 == 0:\n",
    "            print(x, '윤년')\n",
    "        else:\n",
    "            print(x, '평년')\n",
    "    else:\n",
    "        print(x, '윤년')\n",
    "else:\n",
    "    print(x, '평년')"
   ]
  },
  {
   "cell_type": "code",
   "execution_count": 13,
   "metadata": {},
   "outputs": [
    {
     "name": "stdout",
     "output_type": "stream",
     "text": [
      "2004 윤년\n"
     ]
    }
   ],
   "source": [
    " #Code Refactoring\n",
    "x = 2004\n",
    "if x % 4 == 0:\n",
    "    if x % 100 == 0 and x % 400 != 0:\n",
    "        print(x, '평년')\n",
    "    else:\n",
    "        print(x, '윤년')\n",
    "else:\n",
    "    print(x, '평년')"
   ]
  },
  {
   "cell_type": "code",
   "execution_count": 14,
   "metadata": {},
   "outputs": [
    {
     "name": "stdout",
     "output_type": "stream",
     "text": [
      "2004 윤년\n"
     ]
    }
   ],
   "source": [
    "x = 2004\n",
    "if x % 4 == 0 and not (x % 100 == 0 and x % 400 != 0):\n",
    "    print(x, '윤년')\n",
    "else:\n",
    "    print(x, '평년')"
   ]
  },
  {
   "cell_type": "code",
   "execution_count": 15,
   "metadata": {},
   "outputs": [
    {
     "name": "stdout",
     "output_type": "stream",
     "text": [
      "1901 평년\n"
     ]
    }
   ],
   "source": [
    "# not (A and B)  ==> not A or not B\n",
    "x = 1901\n",
    "if x % 4 == 0 and (x % 100 != 0 or x % 400 == 0):\n",
    "    print(x, '윤년')\n",
    "else:\n",
    "    print(x, '평년')"
   ]
  },
  {
   "cell_type": "code",
   "execution_count": null,
   "metadata": {},
   "outputs": [],
   "source": []
  }
 ],
 "metadata": {
  "interpreter": {
   "hash": "b3ba2566441a7c06988d0923437866b63cedc61552a5af99d1f4fb67d367b25f"
  },
  "kernelspec": {
   "display_name": "Python 3.9.7 ('base')",
   "language": "python",
   "name": "python3"
  },
  "language_info": {
   "codemirror_mode": {
    "name": "ipython",
    "version": 3
   },
   "file_extension": ".py",
   "mimetype": "text/x-python",
   "name": "python",
   "nbconvert_exporter": "python",
   "pygments_lexer": "ipython3",
   "version": "3.9.7"
  },
  "orig_nbformat": 4
 },
 "nbformat": 4,
 "nbformat_minor": 2
}
