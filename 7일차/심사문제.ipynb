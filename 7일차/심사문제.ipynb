{
 "cells": [
  {
   "cell_type": "markdown",
   "metadata": {},
   "source": [
    " # 심사문제 34.6"
   ]
  },
  {
   "cell_type": "markdown",
   "metadata": {},
   "source": [
    "- 표준 입력으로 게임 캐릭터 능력치(체력, 마나, AP)가 입력됩니다. \n",
    "다음 소스 코드에서 애니(Annie) 클래스를 작성하여 티버(tibbers) 스킬의 피해량이 출력되게 만드세요. \n",
    "티버의 피해량은 AP * 0.65 + 400이며 AP(Ability Power, 주문력)는 마법 능력치를 뜻합니다.\n"
   ]
  },
  {
   "cell_type": "code",
   "execution_count": 1,
   "metadata": {},
   "outputs": [],
   "source": [
    "class Annie:\n",
    "    def __init__(self, health, mana, ability_power):\n",
    "        self.health = health\n",
    "        self.mana = mana\n",
    "        self.ability_power = ability_power\n",
    "\n",
    "    def tibbers(self):\n",
    "        print('티버: 피해량', 0.65 * self.ability_power + 400)"
   ]
  },
  {
   "cell_type": "code",
   "execution_count": 2,
   "metadata": {},
   "outputs": [
    {
     "name": "stdout",
     "output_type": "stream",
     "text": [
      "티버: 피해량 819.25\n"
     ]
    }
   ],
   "source": [
    "health, mana, ability_power = map(float, input().split())\n",
    " \n",
    "x = Annie(health=health, mana=mana, ability_power=ability_power)\n",
    "x.tibbers()"
   ]
  },
  {
   "cell_type": "markdown",
   "metadata": {},
   "source": [
    "연습문제 1"
   ]
  },
  {
   "cell_type": "markdown",
   "metadata": {},
   "source": [
    "Calculator\n",
    "    add, sub, mul, div 메소드 구현\n",
    "    단, 0으로 나누지 못하게 할 것"
   ]
  },
  {
   "cell_type": "code",
   "execution_count": 4,
   "metadata": {},
   "outputs": [],
   "source": [
    "class Calculator:\n",
    "    ''' def __init__(self, x, y):\n",
    "        self.x = x\n",
    "        self.y = y '''\n",
    "    def add(self, a, b):\n",
    "        return a+b\n",
    "    def sub(self, a, b):\n",
    "        return a-b\n",
    "    def mul(self, a, b):\n",
    "        return a*b\n",
    "    def div(self, a, b):\n",
    "        if abs(b) < 1e-15:\n",
    "            return None\n",
    "        return a / b"
   ]
  },
  {
   "cell_type": "code",
   "execution_count": 5,
   "metadata": {},
   "outputs": [
    {
     "data": {
      "text/plain": [
       "9"
      ]
     },
     "execution_count": 5,
     "metadata": {},
     "output_type": "execute_result"
    }
   ],
   "source": [
    "calc = Calculator()\n",
    "calc.add(5,4)"
   ]
  },
  {
   "cell_type": "code",
   "execution_count": 6,
   "metadata": {},
   "outputs": [
    {
     "data": {
      "text/plain": [
       "(1, 35)"
      ]
     },
     "execution_count": 6,
     "metadata": {},
     "output_type": "execute_result"
    }
   ],
   "source": [
    "calc.sub(4,3), calc.mul(7,5)"
   ]
  },
  {
   "cell_type": "code",
   "execution_count": 7,
   "metadata": {},
   "outputs": [],
   "source": [
    "calc.div(5,0)"
   ]
  },
  {
   "cell_type": "code",
   "execution_count": 8,
   "metadata": {},
   "outputs": [
    {
     "data": {
      "text/plain": [
       "7500000000.0"
      ]
     },
     "execution_count": 8,
     "metadata": {},
     "output_type": "execute_result"
    }
   ],
   "source": [
    "calc.div(3, 4e-10)"
   ]
  },
  {
   "cell_type": "markdown",
   "metadata": {},
   "source": [
    "연습문제 2\n"
   ]
  },
  {
   "cell_type": "markdown",
   "metadata": {},
   "source": [
    "- 속성\n",
    "    ano: 문자열 6글자, '123456'\n",
    "    owner: 문자열\n",
    "    balance: 잔액, 비공개 속성 \n",
    "\n",
    "- Method\n",
    "    생성자\n",
    "    deposit(amount) 잔액이 1000만원 이상이면 입금할 수 없음\n",
    "    withdraw(amount) 잔액이 0원 미만이면 출금할 수 없음\n",
    "    출력 가능하게(__str__)"
   ]
  },
  {
   "cell_type": "code",
   "execution_count": 9,
   "metadata": {},
   "outputs": [],
   "source": [
    "class Account:\n",
    "    def __init__(self, ano, owner, balance):\n",
    "        self.ano = ano\n",
    "        self.owner = owner\n",
    "        self.__balance = balance\n",
    "\n",
    "    def deposit(self, amount):\n",
    "        if amount + self.__balance >= 10000000:\n",
    "            print('천만원 이상은 잔액으로 가져갈 수 없습니다.')\n",
    "            return\n",
    "        self.__balance += amount\n",
    "\n",
    "    def withdraw(self, amount):\n",
    "        if self.__balance - amount < 0:\n",
    "            print('잔액이 부족합니다.')\n",
    "            return\n",
    "        self.__balance -= amount\n",
    "\n",
    "    def __str__(self):\n",
    "        return f'계좌번호: {self.ano}, 소유주: {self.owner}, 잔액: {self.__balance:9,d}'"
   ]
  },
  {
   "cell_type": "code",
   "execution_count": 10,
   "metadata": {},
   "outputs": [
    {
     "name": "stdout",
     "output_type": "stream",
     "text": [
      "계좌번호: 123456, 소유주: 제임스, 잔액:   100,000\n"
     ]
    }
   ],
   "source": [
    "acc = Account('123456', '제임스', 100000)\n",
    "print(acc)"
   ]
  },
  {
   "cell_type": "code",
   "execution_count": 11,
   "metadata": {},
   "outputs": [
    {
     "name": "stdout",
     "output_type": "stream",
     "text": [
      "계좌번호: 123456, 소유주: 제임스, 잔액: 3,100,000\n"
     ]
    }
   ],
   "source": [
    "acc.deposit(3000000)\n",
    "print(acc)"
   ]
  },
  {
   "cell_type": "code",
   "execution_count": 12,
   "metadata": {},
   "outputs": [
    {
     "name": "stdout",
     "output_type": "stream",
     "text": [
      "천만원 이상은 잔액으로 가져갈 수 없습니다.\n",
      "계좌번호: 123456, 소유주: 제임스, 잔액: 3,100,000\n"
     ]
    }
   ],
   "source": [
    "acc.deposit(7000000)\n",
    "print(acc)"
   ]
  },
  {
   "cell_type": "code",
   "execution_count": 13,
   "metadata": {},
   "outputs": [
    {
     "name": "stdout",
     "output_type": "stream",
     "text": [
      "계좌번호: 123456, 소유주: 제임스, 잔액: 1,100,000\n"
     ]
    }
   ],
   "source": [
    "acc.withdraw(2000000)\n",
    "print(acc)"
   ]
  },
  {
   "cell_type": "code",
   "execution_count": 14,
   "metadata": {},
   "outputs": [
    {
     "name": "stdout",
     "output_type": "stream",
     "text": [
      "잔액이 부족합니다.\n",
      "계좌번호: 123456, 소유주: 제임스, 잔액: 1,100,000\n"
     ]
    }
   ],
   "source": [
    "acc.withdraw(2000000)\n",
    "print(acc)"
   ]
  },
  {
   "cell_type": "code",
   "execution_count": 15,
   "metadata": {},
   "outputs": [
    {
     "name": "stdout",
     "output_type": "stream",
     "text": [
      "계좌번호: 987432, 소유주: 마리아, 잔액: 3,000,000\n"
     ]
    }
   ],
   "source": [
    "acc2 = Account('987432', '마리아', 3000000)\n",
    "print(acc2)"
   ]
  },
  {
   "cell_type": "code",
   "execution_count": 16,
   "metadata": {},
   "outputs": [],
   "source": [
    "acc_list = [acc, acc2]"
   ]
  },
  {
   "cell_type": "markdown",
   "metadata": {},
   "source": [
    "- 사용자 I/F\n",
    "\n",
    "\n",
    "1:계좌생성, 2:계좌목록, 3:입금, 4:출금, 5:종료"
   ]
  },
  {
   "cell_type": "code",
   "execution_count": 17,
   "metadata": {},
   "outputs": [],
   "source": [
    "def check_duplicate(ano):\n",
    "    for acc in acc_list:\n",
    "        if ano == acc.ano:\n",
    "            return True\n",
    "    return False"
   ]
  },
  {
   "cell_type": "code",
   "execution_count": 18,
   "metadata": {},
   "outputs": [],
   "source": [
    "# 사용자로부터 필요한 정보를 입력 받아서 계좌를 생성함\n",
    "def create_account():\n",
    "    while True:\n",
    "        s = input('계좌번호 성명 금액> ').split()\n",
    "        ano, owner = s[0], s[1]\n",
    "        amount = int(s[2])\n",
    "        if not check_duplicate(ano):\n",
    "            break\n",
    "    acc = Account(ano, owner, amount)\n",
    "    acc_list.append(acc)"
   ]
  },
  {
   "cell_type": "code",
   "execution_count": 19,
   "metadata": {},
   "outputs": [],
   "source": [
    "# 사용자로부터 필요한 정보를 입력 받아서 계좌에 돈을 입금함\n",
    "def deposit_account():\n",
    "    s = input('계좌번호 금액> ').split()\n",
    "    ano, amount = s[0], int(s[1])\n",
    "    for acc in acc_list:\n",
    "        if acc.ano == ano:\n",
    "            acc.deposit(amount)\n",
    "            return"
   ]
  },
  {
   "cell_type": "code",
   "execution_count": 20,
   "metadata": {},
   "outputs": [],
   "source": [
    "# 사용자로부터 필요한 정보를 입력 받아서 계좌에서 돈을 출금함\n",
    "def withdraw_account():\n",
    "    s = input('계좌번호 금액> ').split()\n",
    "    ano, amount = s[0], int(s[1])\n",
    "    for acc in acc_list:\n",
    "        if acc.ano == ano:\n",
    "            acc.withdraw(amount)\n",
    "            return"
   ]
  },
  {
   "cell_type": "code",
   "execution_count": 24,
   "metadata": {},
   "outputs": [
    {
     "name": "stdout",
     "output_type": "stream",
     "text": [
      "계좌번호: 123456, 소유주: 제임스, 잔액: 1,100,000\n",
      "계좌번호: 987432, 소유주: 마리아, 잔액: 3,000,000\n",
      "\n",
      "\n",
      "계좌번호: 123456, 소유주: 제임스, 잔액: 1,100,000\n",
      "계좌번호: 987432, 소유주: 마리아, 잔액: 3,000,000\n",
      "계좌번호: 123458, 소유주: 정영훈, 잔액: 10,000,000\n",
      "\n",
      "천만원 이상은 잔액으로 가져갈 수 없습니다.\n",
      "\n"
     ]
    },
    {
     "ename": "ValueError",
     "evalue": "invalid literal for int() with base 10: ''",
     "output_type": "error",
     "traceback": [
      "\u001b[1;31m---------------------------------------------------------------------------\u001b[0m",
      "\u001b[1;31mValueError\u001b[0m                                Traceback (most recent call last)",
      "\u001b[1;32m~\\AppData\\Local\\Temp/ipykernel_10500/383057664.py\u001b[0m in \u001b[0;36m<module>\u001b[1;34m\u001b[0m\n\u001b[0;32m      1\u001b[0m \u001b[1;32mwhile\u001b[0m \u001b[1;32mTrue\u001b[0m\u001b[1;33m:\u001b[0m\u001b[1;33m\u001b[0m\u001b[1;33m\u001b[0m\u001b[0m\n\u001b[1;32m----> 2\u001b[1;33m     \u001b[0mmenu\u001b[0m \u001b[1;33m=\u001b[0m \u001b[0mint\u001b[0m\u001b[1;33m(\u001b[0m\u001b[0minput\u001b[0m\u001b[1;33m(\u001b[0m\u001b[1;34m'1:계좌생성, 2:계좌목록, 3:입금, 4:출금, 5:종료> '\u001b[0m\u001b[1;33m)\u001b[0m\u001b[1;33m)\u001b[0m\u001b[1;33m\u001b[0m\u001b[1;33m\u001b[0m\u001b[0m\n\u001b[0m\u001b[0;32m      3\u001b[0m     \u001b[1;32mif\u001b[0m \u001b[0mmenu\u001b[0m \u001b[1;33m==\u001b[0m \u001b[1;36m5\u001b[0m\u001b[1;33m:\u001b[0m\u001b[1;33m\u001b[0m\u001b[1;33m\u001b[0m\u001b[0m\n\u001b[0;32m      4\u001b[0m         \u001b[1;32mbreak\u001b[0m\u001b[1;33m\u001b[0m\u001b[1;33m\u001b[0m\u001b[0m\n\u001b[0;32m      5\u001b[0m     \u001b[1;32mif\u001b[0m \u001b[0mmenu\u001b[0m \u001b[1;33m==\u001b[0m \u001b[1;36m1\u001b[0m\u001b[1;33m:\u001b[0m\u001b[1;33m\u001b[0m\u001b[1;33m\u001b[0m\u001b[0m\n",
      "\u001b[1;31mValueError\u001b[0m: invalid literal for int() with base 10: ''"
     ]
    }
   ],
   "source": [
    "while True:\n",
    "    menu = int(input('1:계좌생성, 2:계좌목록, 3:입금, 4:출금, 5:종료> '))\n",
    "    if menu == 5:\n",
    "        break\n",
    "    if menu == 1:\n",
    "        create_account()\n",
    "    elif menu == 2:\n",
    "        for account in acc_list:\n",
    "            print(account)\n",
    "    elif menu == 3:\n",
    "        deposit_account()\n",
    "    elif menu == 4:\n",
    "        withdraw_account()\n",
    "    else:\n",
    "        print('잘못된 명령어입니다.')\n",
    "\n",
    "    print()"
   ]
  },
  {
   "cell_type": "code",
   "execution_count": null,
   "metadata": {},
   "outputs": [],
   "source": []
  }
 ],
 "metadata": {
  "interpreter": {
   "hash": "b3ba2566441a7c06988d0923437866b63cedc61552a5af99d1f4fb67d367b25f"
  },
  "kernelspec": {
   "display_name": "Python 3.9.7 ('base')",
   "language": "python",
   "name": "python3"
  },
  "language_info": {
   "codemirror_mode": {
    "name": "ipython",
    "version": 3
   },
   "file_extension": ".py",
   "mimetype": "text/x-python",
   "name": "python",
   "nbconvert_exporter": "python",
   "pygments_lexer": "ipython3",
   "version": "3.9.7"
  },
  "orig_nbformat": 4
 },
 "nbformat": 4,
 "nbformat_minor": 2
}
