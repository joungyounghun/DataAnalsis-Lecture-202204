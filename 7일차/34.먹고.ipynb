{
 "cells": [
  {
   "cell_type": "markdown",
   "metadata": {},
   "source": [
    "Unit 34. 클래스(Class)"
   ]
  },
  {
   "cell_type": "markdown",
   "metadata": {},
   "source": [
    "34.1 클래스와 메소드 만들기"
   ]
  },
  {
   "cell_type": "code",
   "execution_count": 9,
   "metadata": {},
   "outputs": [],
   "source": [
    "class Person:       # 클래스 이름은 대문자로 시작\n",
    "    def greeting(self):     # 메소드의 첫번째 인자는 무조건 self\n",
    "        print('Hello')"
   ]
  },
  {
   "cell_type": "code",
   "execution_count": 10,
   "metadata": {},
   "outputs": [],
   "source": [
    "# 클래스의 인스턴스(객체)를 만들어야 클래스를 사용할 수 있음\n",
    "james = Person()        # 생성자(Constructor) 함수\n",
    "maria = Person()"
   ]
  },
  {
   "cell_type": "code",
   "execution_count": 11,
   "metadata": {},
   "outputs": [
    {
     "name": "stdout",
     "output_type": "stream",
     "text": [
      "Hello\n"
     ]
    }
   ],
   "source": [
    "james.greeting()"
   ]
  },
  {
   "cell_type": "code",
   "execution_count": 12,
   "metadata": {},
   "outputs": [
    {
     "name": "stdout",
     "output_type": "stream",
     "text": [
      "Hello\n"
     ]
    }
   ],
   "source": [
    "maria.greeting()"
   ]
  },
  {
   "cell_type": "code",
   "execution_count": 13,
   "metadata": {},
   "outputs": [
    {
     "name": "stdout",
     "output_type": "stream",
     "text": [
      "Hello\n"
     ]
    }
   ],
   "source": [
    "Person().greeting()"
   ]
  },
  {
   "cell_type": "markdown",
   "metadata": {},
   "source": [
    "클래스 내에서 메소드 호출하기"
   ]
  },
  {
   "cell_type": "code",
   "execution_count": 14,
   "metadata": {},
   "outputs": [],
   "source": [
    "class Person:\n",
    "    def greeting(self):\n",
    "        print('Hello')\n",
    "\n",
    "    def hello(self):      \n",
    "        self.greeting()     # 클래스 내에서 속성이나 메소드를 참조할때는 self.xxx 한다."
   ]
  },
  {
   "cell_type": "code",
   "execution_count": 15,
   "metadata": {},
   "outputs": [
    {
     "name": "stdout",
     "output_type": "stream",
     "text": [
      "Hello\n"
     ]
    }
   ],
   "source": [
    "james = Person()\n",
    "james.hello()"
   ]
  },
  {
   "cell_type": "markdown",
   "metadata": {},
   "source": [
    "- 특정 클래스의 인스턴스인지 확인하기"
   ]
  },
  {
   "cell_type": "code",
   "execution_count": 16,
   "metadata": {},
   "outputs": [
    {
     "data": {
      "text/plain": [
       "True"
      ]
     },
     "execution_count": 16,
     "metadata": {},
     "output_type": "execute_result"
    }
   ],
   "source": [
    "isinstance(james, Person)"
   ]
  },
  {
   "cell_type": "code",
   "execution_count": 17,
   "metadata": {},
   "outputs": [],
   "source": [
    "# 음수와 실수에 대한 대비가 없다\n",
    "def fact(n):\n",
    "    if n == 0:\n",
    "        return 1\n",
    "    return n * fact(n-1)"
   ]
  },
  {
   "cell_type": "code",
   "execution_count": 18,
   "metadata": {},
   "outputs": [],
   "source": [
    "def factorial(n):\n",
    "    if not isinstance(n, int) or n < 0:\n",
    "        return None\n",
    "    if n == 0:\n",
    "        return 1\n",
    "    return n * factorial(n-1)"
   ]
  },
  {
   "cell_type": "code",
   "execution_count": 19,
   "metadata": {},
   "outputs": [
    {
     "data": {
      "text/plain": [
       "(None, None)"
      ]
     },
     "execution_count": 19,
     "metadata": {},
     "output_type": "execute_result"
    }
   ],
   "source": [
    "factorial(1.3), factorial(-4)"
   ]
  },
  {
   "cell_type": "code",
   "execution_count": 20,
   "metadata": {},
   "outputs": [
    {
     "data": {
      "text/plain": [
       "120"
      ]
     },
     "execution_count": 20,
     "metadata": {},
     "output_type": "execute_result"
    }
   ],
   "source": [
    "factorial(5)"
   ]
  },
  {
   "cell_type": "markdown",
   "metadata": {},
   "source": [
    "34.2 속성(Attribute)"
   ]
  },
  {
   "cell_type": "code",
   "execution_count": 2,
   "metadata": {},
   "outputs": [],
   "source": [
    "class Person:\n",
    "    def __init__(self):\n",
    "        self.hello = '안녕하세요?'\n",
    "    def greeting(self):\n",
    "        print(self.hello)"
   ]
  },
  {
   "cell_type": "code",
   "execution_count": 3,
   "metadata": {},
   "outputs": [
    {
     "name": "stdout",
     "output_type": "stream",
     "text": [
      "안녕하세요?\n"
     ]
    }
   ],
   "source": [
    "maria = Person()\n",
    "maria.greeting()"
   ]
  },
  {
   "cell_type": "code",
   "execution_count": 4,
   "metadata": {},
   "outputs": [
    {
     "name": "stdout",
     "output_type": "stream",
     "text": [
      "How are you?\n"
     ]
    }
   ],
   "source": [
    "maria.hello = 'How are you?'\n",
    "maria.greeting()"
   ]
  },
  {
   "cell_type": "code",
   "execution_count": 5,
   "metadata": {},
   "outputs": [
    {
     "name": "stdout",
     "output_type": "stream",
     "text": [
      "Good afternoon!\n"
     ]
    }
   ],
   "source": [
    "james = Person()\n",
    "james.hello = 'Good afternoon!'\n",
    "james.greeting()"
   ]
  },
  {
   "cell_type": "code",
   "execution_count": 6,
   "metadata": {},
   "outputs": [],
   "source": [
    "class Person:\n",
    "    # 생성자 함수\n",
    "    def __init__(self, name, age, address):\n",
    "        self.hello = '안녕하세요?'\n",
    "        self.name = name\n",
    "        self.age = age\n",
    "        self.address = address\n",
    "    def greeting(self):\n",
    "        print(f'{self.hello} 저는 {self.name} 입니다.')\n",
    "    # JAVA의 toString() method\n",
    "    def __str__(self):\n",
    "        return f'hello: {self.hello}, name: {self.name}, age: {self.age}, address: {self.address}'"
   ]
  },
  {
   "cell_type": "code",
   "execution_count": 7,
   "metadata": {},
   "outputs": [
    {
     "name": "stdout",
     "output_type": "stream",
     "text": [
      "안녕하세요? 저는 마리아 입니다.\n"
     ]
    }
   ],
   "source": [
    "maria = Person('마리아', 23, '서울시 서초구 서초동')\n",
    "maria.greeting()"
   ]
  },
  {
   "cell_type": "code",
   "execution_count": 8,
   "metadata": {},
   "outputs": [
    {
     "name": "stdout",
     "output_type": "stream",
     "text": [
      "반갑습니다. 저는 마리아 입니다.\n"
     ]
    }
   ],
   "source": [
    "maria.hello = '반갑습니다.'\n",
    "maria.greeting()"
   ]
  },
  {
   "cell_type": "code",
   "execution_count": 9,
   "metadata": {},
   "outputs": [
    {
     "name": "stdout",
     "output_type": "stream",
     "text": [
      "hello: 반갑습니다., name: 마리아, age: 23, address: 서울시 서초구 서초동\n"
     ]
    }
   ],
   "source": [
    "# __str__ method 만들기 전\n",
    "print(maria)"
   ]
  },
  {
   "cell_type": "code",
   "execution_count": 10,
   "metadata": {},
   "outputs": [
    {
     "name": "stdout",
     "output_type": "stream",
     "text": [
      "hello: 반갑습니다., name: 마리아, age: 23, address: 서울시 서초구 서초동\n"
     ]
    }
   ],
   "source": [
    "# __str__ method 만든 후\n",
    "print(maria)"
   ]
  },
  {
   "cell_type": "code",
   "execution_count": 11,
   "metadata": {},
   "outputs": [
    {
     "name": "stdout",
     "output_type": "stream",
     "text": [
      "hello: 반갑습니다., name: 마리아, age: 23, address: 서울시 서초구 서초동\n"
     ]
    }
   ],
   "source": [
    "maria.hello = '반갑습니다.'\n",
    "print(maria)"
   ]
  },
  {
   "cell_type": "markdown",
   "metadata": {},
   "source": [
    "34.3 비공개 속성"
   ]
  },
  {
   "cell_type": "code",
   "execution_count": 12,
   "metadata": {},
   "outputs": [
    {
     "name": "stdout",
     "output_type": "stream",
     "text": [
      "hello: 반갑습니다., name: 마리아, age: 23, address: 서울시 서초구 서초동\n"
     ]
    }
   ],
   "source": [
    "print(maria)"
   ]
  },
  {
   "cell_type": "code",
   "execution_count": 13,
   "metadata": {},
   "outputs": [],
   "source": [
    "class Person:\n",
    "    def __init__(self, name, age, addr, wallet):\n",
    "        self.name = name\n",
    "        self.age = age\n",
    "        self.addr = addr\n",
    "        self.__wallet = wallet      # __가 붙으면 비공개 속성이 됨"
   ]
  },
  {
   "cell_type": "code",
   "execution_count": 14,
   "metadata": {},
   "outputs": [],
   "source": [
    "james = Person('제임스', 25, '서울시 서초구 반포동', 10000)"
   ]
  },
  {
   "cell_type": "code",
   "execution_count": 16,
   "metadata": {},
   "outputs": [],
   "source": [
    "class Person:\n",
    "    def __init__(self, name, age, addr, wallet):\n",
    "        self.name = name\n",
    "        self.age = age\n",
    "        self.addr = addr\n",
    "        self.__wallet = wallet      # __가 붙으면 비공개 속성이 됨\n",
    "\n",
    "    def pay(self, amount):\n",
    "        if self.__wallet < amount:\n",
    "            print('지갑에 돈이 부족합니다.ㅠㅠ')\n",
    "            return\n",
    "        self.__wallet -= amount\n",
    "        print(f'지갑에 남은 돈은 {self.__wallet:,d}원 입니다.')\n",
    "\n",
    "    def __greeting(self):\n",
    "        print('Hello')\n",
    "\n",
    "    def hello(self):\n",
    "        self.__greeting()"
   ]
  },
  {
   "cell_type": "code",
   "execution_count": 17,
   "metadata": {},
   "outputs": [
    {
     "name": "stdout",
     "output_type": "stream",
     "text": [
      "지갑에 남은 돈은 7,500원 입니다.\n"
     ]
    }
   ],
   "source": [
    "james = Person('제임스', 25, '서울시 서초구 반포동', 10000)\n",
    "james.pay(2500)"
   ]
  },
  {
   "cell_type": "code",
   "execution_count": 18,
   "metadata": {},
   "outputs": [
    {
     "name": "stdout",
     "output_type": "stream",
     "text": [
      "지갑에 돈이 부족합니다.ㅠㅠ\n"
     ]
    }
   ],
   "source": [
    "james.pay(8000)"
   ]
  },
  {
   "cell_type": "code",
   "execution_count": 19,
   "metadata": {},
   "outputs": [
    {
     "ename": "AttributeError",
     "evalue": "'Person' object has no attribute '__greeting'",
     "output_type": "error",
     "traceback": [
      "\u001b[1;31m---------------------------------------------------------------------------\u001b[0m",
      "\u001b[1;31mAttributeError\u001b[0m                            Traceback (most recent call last)",
      "\u001b[1;32m~\\AppData\\Local\\Temp/ipykernel_16064/1063803936.py\u001b[0m in \u001b[0;36m<module>\u001b[1;34m\u001b[0m\n\u001b[0;32m      1\u001b[0m \u001b[1;31m# 비공개 메소드\u001b[0m\u001b[1;33m\u001b[0m\u001b[1;33m\u001b[0m\u001b[0m\n\u001b[1;32m----> 2\u001b[1;33m \u001b[0mjames\u001b[0m\u001b[1;33m.\u001b[0m\u001b[0m__greeting\u001b[0m\u001b[1;33m(\u001b[0m\u001b[1;33m)\u001b[0m\u001b[1;33m\u001b[0m\u001b[1;33m\u001b[0m\u001b[0m\n\u001b[0m",
      "\u001b[1;31mAttributeError\u001b[0m: 'Person' object has no attribute '__greeting'"
     ]
    }
   ],
   "source": [
    "# 비공개 메소드\n",
    "james.__greeting()"
   ]
  },
  {
   "cell_type": "code",
   "execution_count": 20,
   "metadata": {},
   "outputs": [
    {
     "name": "stdout",
     "output_type": "stream",
     "text": [
      "Hello\n"
     ]
    }
   ],
   "source": [
    "james.hello()"
   ]
  },
  {
   "cell_type": "code",
   "execution_count": null,
   "metadata": {},
   "outputs": [],
   "source": []
  }
 ],
 "metadata": {
  "interpreter": {
   "hash": "b3ba2566441a7c06988d0923437866b63cedc61552a5af99d1f4fb67d367b25f"
  },
  "kernelspec": {
   "display_name": "Python 3.9.7 ('base')",
   "language": "python",
   "name": "python3"
  },
  "language_info": {
   "codemirror_mode": {
    "name": "ipython",
    "version": 3
   },
   "file_extension": ".py",
   "mimetype": "text/x-python",
   "name": "python",
   "nbconvert_exporter": "python",
   "pygments_lexer": "ipython3",
   "version": "3.9.7"
  },
  "orig_nbformat": 4
 },
 "nbformat": 4,
 "nbformat_minor": 2
}
