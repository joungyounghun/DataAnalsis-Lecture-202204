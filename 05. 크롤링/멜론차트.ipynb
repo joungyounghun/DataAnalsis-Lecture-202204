{
 "cells": [
  {
   "cell_type": "code",
   "execution_count": 9,
   "metadata": {},
   "outputs": [],
   "source": [
    "import requests\n",
    "import pandas as pd\n",
    "from bs4 import BeautifulSoup"
   ]
  },
  {
   "cell_type": "code",
   "execution_count": 15,
   "metadata": {},
   "outputs": [
    {
     "data": {
      "text/plain": [
       "''"
      ]
     },
     "execution_count": 15,
     "metadata": {},
     "output_type": "execute_result"
    }
   ],
   "source": [
    "url = 'https://www.melon.com/chart/index.htm'\n",
    "req = requests.get(url)\n",
    "req.text"
   ]
  },
  {
   "cell_type": "code",
   "execution_count": 14,
   "metadata": {},
   "outputs": [],
   "source": [
    "header = {'User-Agent': 'https://www.melon.com/chart/index.htm'}\n",
    "req = requests.get(url, headers=header)\n",
    "soup = BeautifulSoup(req.text)"
   ]
  },
  {
   "cell_type": "code",
   "execution_count": 16,
   "metadata": {},
   "outputs": [
    {
     "data": {
      "text/plain": [
       "50"
      ]
     },
     "execution_count": 16,
     "metadata": {},
     "output_type": "execute_result"
    }
   ],
   "source": [
    "trs = soup.select('#lst50')\n",
    "len(trs)"
   ]
  },
  {
   "cell_type": "code",
   "execution_count": 17,
   "metadata": {},
   "outputs": [],
   "source": [
    "tr = trs[0]"
   ]
  },
  {
   "cell_type": "code",
   "execution_count": 18,
   "metadata": {},
   "outputs": [
    {
     "data": {
      "text/plain": [
       "'1'"
      ]
     },
     "execution_count": 18,
     "metadata": {},
     "output_type": "execute_result"
    }
   ],
   "source": [
    "tr.select_one('.rank').get_text()"
   ]
  },
  {
   "cell_type": "code",
   "execution_count": 19,
   "metadata": {},
   "outputs": [
    {
     "data": {
      "text/plain": [
       "1"
      ]
     },
     "execution_count": 19,
     "metadata": {},
     "output_type": "execute_result"
    }
   ],
   "source": [
    "try:\n",
    "    rank = int(tr.select_one('.rank').get_text().split('\\n')[0])\n",
    "except:\n",
    "    rank = 0\n",
    "rank"
   ]
  },
  {
   "cell_type": "code",
   "execution_count": 29,
   "metadata": {},
   "outputs": [
    {
     "data": {
      "text/plain": [
       "'\\n봄여름가을겨울 (Still Life)\\n'"
      ]
     },
     "execution_count": 29,
     "metadata": {},
     "output_type": "execute_result"
    }
   ],
   "source": [
    "title = tr.select_one('.ellipsis.rank01').get_text()\n",
    "title"
   ]
  },
  {
   "cell_type": "code",
   "execution_count": 20,
   "metadata": {},
   "outputs": [
    {
     "data": {
      "text/plain": [
       "''"
      ]
     },
     "execution_count": 20,
     "metadata": {},
     "output_type": "execute_result"
    }
   ],
   "source": [
    "try:            \n",
    "    title = tr.select_one('.ellipsis.rank01').string.strip()\n",
    "except:     \n",
    "    title = tr.select_one('.ellipsis.rank01').get_text().split('\\n')[-1].strip()\n",
    "title"
   ]
  },
  {
   "cell_type": "code",
   "execution_count": 33,
   "metadata": {},
   "outputs": [
    {
     "data": {
      "text/plain": [
       "'BIGBANG (빅뱅)BIGBANG (빅뱅)'"
      ]
     },
     "execution_count": 33,
     "metadata": {},
     "output_type": "execute_result"
    }
   ],
   "source": [
    "artist = tr.select_one('.ellipsis.rank02').text.strip()\n",
    "artist\n"
   ]
  },
  {
   "cell_type": "code",
   "execution_count": 31,
   "metadata": {},
   "outputs": [
    {
     "data": {
      "text/plain": [
       "'봄여름가을겨울 (Still Life)'"
      ]
     },
     "execution_count": 31,
     "metadata": {},
     "output_type": "execute_result"
    }
   ],
   "source": [
    "album = tr.select_one('.ellipsis.rank03').text.strip()\n",
    "album"
   ]
  },
  {
   "cell_type": "code",
   "execution_count": null,
   "metadata": {},
   "outputs": [],
   "source": [
    "rank_list, title_list, artist_list, album_list = [],[],[],[]\n",
    "for i, tr in enumerate(trs):\n",
    "    try:\n",
    "        rank = int(tr.select_one('.ellipsis.rank01').get_text().split('\\n')[0])\n",
    "    except:\n",
    "        rank = 0\n",
    "    try:\n",
    "        title = tr.select_one('.ellipsis.rank01').string.strip()\n",
    "        artist = tr.select_one('.ellipsis.rank02').text.strip()\n",
    "        album = tr.select_one('.ellipsis.rank03').text.strip()\n",
    "    except:\n",
    "        print(i)\n",
    "    rank_list.append(rank)\n",
    "    title_list.append(title)\n",
    "    artist_list.append(artist)\n",
    "    album_list.append(album)"
   ]
  },
  {
   "cell_type": "code",
   "execution_count": 35,
   "metadata": {},
   "outputs": [],
   "source": [
    "rank_list, title_list, artist_list, album_list = [],[],[],[]\n",
    "for i, tr in enumerate(trs):\n",
    "    try:\n",
    "        rank = int(tr.select_one('.rank').get_text().split('\\n')[0])\n",
    "    except:\n",
    "        rank = 0\n",
    "    try:            # 일반적인 노래\n",
    "        title = tr.select_one('.ellipsis.rank01').string.strip()\n",
    "    except:         # 19금 노래\n",
    "        title = tr.select_one('.ellipsis.rank01').get_text().split('\\n')[-1].strip()\n",
    "    artist = tr.select_one('.ellipsis.rank02').text.strip()\n",
    "    album = tr.select_one('.ellipsis.rank03').text.strip()\n",
    "    rank_list.append(rank)\n",
    "    title_list.append(title)\n",
    "    artist_list.append(artist)\n",
    "    album_list.append(album)"
   ]
  },
  {
   "cell_type": "code",
   "execution_count": 36,
   "metadata": {},
   "outputs": [],
   "source": [
    "lines = []\n",
    "for i, tr in enumerate(trs):\n",
    "    try:\n",
    "        rank = int(tr.select_one('.rank').get_text().split('\\n')[0])\n",
    "    except:\n",
    "        rank = 0\n",
    "    try:            # 일반적인 노래\n",
    "        title = tr.select_one('.ellipsis.rank01').string.strip()\n",
    "    except:         # 19금 노래\n",
    "        title = tr.select_one('.ellipsis.rank01').get_text().split('\\n')[-1].strip()\n",
    "    artist = tr.select_one('.ellipsis.rank02').text.strip()\n",
    "    album = tr.select_one('.ellipsis.rank03').text.strip()\n",
    "    line = {'순위':rank, '제목':title, '아티스트':artist, '앨범':album}\n",
    "    lines.append(line)"
   ]
  },
  {
   "cell_type": "code",
   "execution_count": 39,
   "metadata": {},
   "outputs": [
    {
     "data": {
      "text/html": [
       "<div>\n",
       "<style scoped>\n",
       "    .dataframe tbody tr th:only-of-type {\n",
       "        vertical-align: middle;\n",
       "    }\n",
       "\n",
       "    .dataframe tbody tr th {\n",
       "        vertical-align: top;\n",
       "    }\n",
       "\n",
       "    .dataframe thead th {\n",
       "        text-align: right;\n",
       "    }\n",
       "</style>\n",
       "<table border=\"1\" class=\"dataframe\">\n",
       "  <thead>\n",
       "    <tr style=\"text-align: right;\">\n",
       "      <th></th>\n",
       "      <th>순위</th>\n",
       "      <th>제목</th>\n",
       "      <th>아티스트</th>\n",
       "      <th>앨범</th>\n",
       "    </tr>\n",
       "  </thead>\n",
       "  <tbody>\n",
       "    <tr>\n",
       "      <th>0</th>\n",
       "      <td>1</td>\n",
       "      <td></td>\n",
       "      <td>BIGBANG (빅뱅)BIGBANG (빅뱅)</td>\n",
       "      <td>봄여름가을겨울 (Still Life)</td>\n",
       "    </tr>\n",
       "    <tr>\n",
       "      <th>1</th>\n",
       "      <td>2</td>\n",
       "      <td></td>\n",
       "      <td>(여자)아이들(여자)아이들</td>\n",
       "      <td>I NEVER DIE</td>\n",
       "    </tr>\n",
       "    <tr>\n",
       "      <th>2</th>\n",
       "      <td>3</td>\n",
       "      <td></td>\n",
       "      <td>IVE (아이브)IVE (아이브)</td>\n",
       "      <td>LOVE DIVE</td>\n",
       "    </tr>\n",
       "    <tr>\n",
       "      <th>3</th>\n",
       "      <td>4</td>\n",
       "      <td></td>\n",
       "      <td>Red Velvet (레드벨벳)Red Velvet (레드벨벳)</td>\n",
       "      <td>‘The ReVe Festival 2022 - Feel My Rhythm’</td>\n",
       "    </tr>\n",
       "    <tr>\n",
       "      <th>4</th>\n",
       "      <td>5</td>\n",
       "      <td></td>\n",
       "      <td>멜로망스멜로망스</td>\n",
       "      <td>사랑인가 봐 (사내맞선 OST 스페셜 트랙)</td>\n",
       "    </tr>\n",
       "    <tr>\n",
       "      <th>5</th>\n",
       "      <td>6</td>\n",
       "      <td></td>\n",
       "      <td>박재범박재범</td>\n",
       "      <td>GANADARA</td>\n",
       "    </tr>\n",
       "    <tr>\n",
       "      <th>6</th>\n",
       "      <td>7</td>\n",
       "      <td></td>\n",
       "      <td>임영웅임영웅</td>\n",
       "      <td>신사와 아가씨 OST Part.2</td>\n",
       "    </tr>\n",
       "    <tr>\n",
       "      <th>7</th>\n",
       "      <td>8</td>\n",
       "      <td></td>\n",
       "      <td>김민석 (멜로망스)김민석 (멜로망스)</td>\n",
       "      <td>취중고백</td>\n",
       "    </tr>\n",
       "    <tr>\n",
       "      <th>8</th>\n",
       "      <td>9</td>\n",
       "      <td></td>\n",
       "      <td>태연 (TAEYEON)태연 (TAEYEON)</td>\n",
       "      <td>INVU - The 3rd Album</td>\n",
       "    </tr>\n",
       "    <tr>\n",
       "      <th>9</th>\n",
       "      <td>10</td>\n",
       "      <td></td>\n",
       "      <td>MSG워너비(M.O.M)MSG워너비(M.O.M)</td>\n",
       "      <td>듣고 싶을까</td>\n",
       "    </tr>\n",
       "  </tbody>\n",
       "</table>\n",
       "</div>"
      ],
      "text/plain": [
       "   순위 제목                                아티스트  \\\n",
       "0   1               BIGBANG (빅뱅)BIGBANG (빅뱅)   \n",
       "1   2                         (여자)아이들(여자)아이들   \n",
       "2   3                     IVE (아이브)IVE (아이브)   \n",
       "3   4     Red Velvet (레드벨벳)Red Velvet (레드벨벳)   \n",
       "4   5                               멜로망스멜로망스   \n",
       "5   6                                 박재범박재범   \n",
       "6   7                                 임영웅임영웅   \n",
       "7   8                   김민석 (멜로망스)김민석 (멜로망스)   \n",
       "8   9               태연 (TAEYEON)태연 (TAEYEON)   \n",
       "9  10             MSG워너비(M.O.M)MSG워너비(M.O.M)   \n",
       "\n",
       "                                          앨범  \n",
       "0                       봄여름가을겨울 (Still Life)  \n",
       "1                                I NEVER DIE  \n",
       "2                                  LOVE DIVE  \n",
       "3  ‘The ReVe Festival 2022 - Feel My Rhythm’  \n",
       "4                   사랑인가 봐 (사내맞선 OST 스페셜 트랙)  \n",
       "5                                   GANADARA  \n",
       "6                         신사와 아가씨 OST Part.2  \n",
       "7                                       취중고백  \n",
       "8                       INVU - The 3rd Album  \n",
       "9                                     듣고 싶을까  "
      ]
     },
     "execution_count": 39,
     "metadata": {},
     "output_type": "execute_result"
    }
   ],
   "source": [
    "df = pd.DataFrame({'순위':rank_list, '제목':title_list,\n",
    "                '아티스트':artist_list, '앨범':album_list})\n",
    "df.head(10)"
   ]
  },
  {
   "cell_type": "code",
   "execution_count": 40,
   "metadata": {},
   "outputs": [
    {
     "data": {
      "text/html": [
       "<div>\n",
       "<style scoped>\n",
       "    .dataframe tbody tr th:only-of-type {\n",
       "        vertical-align: middle;\n",
       "    }\n",
       "\n",
       "    .dataframe tbody tr th {\n",
       "        vertical-align: top;\n",
       "    }\n",
       "\n",
       "    .dataframe thead th {\n",
       "        text-align: right;\n",
       "    }\n",
       "</style>\n",
       "<table border=\"1\" class=\"dataframe\">\n",
       "  <thead>\n",
       "    <tr style=\"text-align: right;\">\n",
       "      <th></th>\n",
       "      <th>순위</th>\n",
       "      <th>제목</th>\n",
       "      <th>아티스트</th>\n",
       "      <th>앨범</th>\n",
       "    </tr>\n",
       "  </thead>\n",
       "  <tbody>\n",
       "    <tr>\n",
       "      <th>10</th>\n",
       "      <td>11</td>\n",
       "      <td></td>\n",
       "      <td>IVE (아이브)IVE (아이브)</td>\n",
       "      <td>ELEVEN</td>\n",
       "    </tr>\n",
       "    <tr>\n",
       "      <th>11</th>\n",
       "      <td>12</td>\n",
       "      <td></td>\n",
       "      <td>경서예지, 전건호경서예지, 전건호</td>\n",
       "      <td>다정히 내 이름을 부르면 (경서예지 x 전건호)</td>\n",
       "    </tr>\n",
       "    <tr>\n",
       "      <th>12</th>\n",
       "      <td>13</td>\n",
       "      <td></td>\n",
       "      <td>STAYC(스테이씨)STAYC(스테이씨)</td>\n",
       "      <td>YOUNG-LUV.COM</td>\n",
       "    </tr>\n",
       "    <tr>\n",
       "      <th>13</th>\n",
       "      <td>14</td>\n",
       "      <td></td>\n",
       "      <td>YENA (최예나)YENA (최예나)</td>\n",
       "      <td>ˣ‿ˣ (SMiLEY)</td>\n",
       "    </tr>\n",
       "    <tr>\n",
       "      <th>14</th>\n",
       "      <td>15</td>\n",
       "      <td></td>\n",
       "      <td>케이시 (Kassy)케이시 (Kassy)</td>\n",
       "      <td>조영수 리메이크 프로젝트 Part.2</td>\n",
       "    </tr>\n",
       "  </tbody>\n",
       "</table>\n",
       "</div>"
      ],
      "text/plain": [
       "    순위 제목                    아티스트                          앨범\n",
       "10  11         IVE (아이브)IVE (아이브)                      ELEVEN\n",
       "11  12         경서예지, 전건호경서예지, 전건호  다정히 내 이름을 부르면 (경서예지 x 전건호)\n",
       "12  13     STAYC(스테이씨)STAYC(스테이씨)               YOUNG-LUV.COM\n",
       "13  14       YENA (최예나)YENA (최예나)                ˣ‿ˣ (SMiLEY)\n",
       "14  15     케이시 (Kassy)케이시 (Kassy)        조영수 리메이크 프로젝트 Part.2"
      ]
     },
     "execution_count": 40,
     "metadata": {},
     "output_type": "execute_result"
    }
   ],
   "source": [
    "df = pd.DataFrame(lines)\n",
    "df.head(15).tail(5)"
   ]
  },
  {
   "cell_type": "code",
   "execution_count": 41,
   "metadata": {},
   "outputs": [
    {
     "data": {
      "text/html": [
       "<div>\n",
       "<style scoped>\n",
       "    .dataframe tbody tr th:only-of-type {\n",
       "        vertical-align: middle;\n",
       "    }\n",
       "\n",
       "    .dataframe tbody tr th {\n",
       "        vertical-align: top;\n",
       "    }\n",
       "\n",
       "    .dataframe thead th {\n",
       "        text-align: right;\n",
       "    }\n",
       "</style>\n",
       "<table border=\"1\" class=\"dataframe\">\n",
       "  <thead>\n",
       "    <tr style=\"text-align: right;\">\n",
       "      <th></th>\n",
       "      <th>순위</th>\n",
       "      <th>제목</th>\n",
       "      <th>아티스트</th>\n",
       "      <th>앨범</th>\n",
       "    </tr>\n",
       "  </thead>\n",
       "  <tbody>\n",
       "    <tr>\n",
       "      <th>45</th>\n",
       "      <td>46</td>\n",
       "      <td></td>\n",
       "      <td>임영웅임영웅</td>\n",
       "      <td>사랑의 콜센타 PART61</td>\n",
       "    </tr>\n",
       "    <tr>\n",
       "      <th>46</th>\n",
       "      <td>47</td>\n",
       "      <td></td>\n",
       "      <td>이무진이무진</td>\n",
       "      <td>눈이 오잖아(Feat.헤이즈)</td>\n",
       "    </tr>\n",
       "    <tr>\n",
       "      <th>47</th>\n",
       "      <td>48</td>\n",
       "      <td></td>\n",
       "      <td>자우림자우림</td>\n",
       "      <td>Goodbye, grief.</td>\n",
       "    </tr>\n",
       "    <tr>\n",
       "      <th>48</th>\n",
       "      <td>49</td>\n",
       "      <td></td>\n",
       "      <td>BE'O (비오)BE'O (비오)</td>\n",
       "      <td>Counting Stars</td>\n",
       "    </tr>\n",
       "    <tr>\n",
       "      <th>49</th>\n",
       "      <td>50</td>\n",
       "      <td></td>\n",
       "      <td>MSG워너비(M.O.M)MSG워너비(M.O.M)</td>\n",
       "      <td>MSG워너비 1집</td>\n",
       "    </tr>\n",
       "  </tbody>\n",
       "</table>\n",
       "</div>"
      ],
      "text/plain": [
       "    순위 제목                        아티스트                앨범\n",
       "45  46                         임영웅임영웅    사랑의 콜센타 PART61\n",
       "46  47                         이무진이무진  눈이 오잖아(Feat.헤이즈)\n",
       "47  48                         자우림자우림   Goodbye, grief.\n",
       "48  49             BE'O (비오)BE'O (비오)    Counting Stars\n",
       "49  50     MSG워너비(M.O.M)MSG워너비(M.O.M)         MSG워너비 1집"
      ]
     },
     "execution_count": 41,
     "metadata": {},
     "output_type": "execute_result"
    }
   ],
   "source": [
    "df = pd.DataFrame(lines)\n",
    "df.tail()"
   ]
  },
  {
   "cell_type": "code",
   "execution_count": 42,
   "metadata": {},
   "outputs": [],
   "source": [
    "df.to_csv('멜론차트.csv', index=False)"
   ]
  },
  {
   "cell_type": "code",
   "execution_count": null,
   "metadata": {},
   "outputs": [],
   "source": []
  }
 ],
 "metadata": {
  "interpreter": {
   "hash": "b3ba2566441a7c06988d0923437866b63cedc61552a5af99d1f4fb67d367b25f"
  },
  "kernelspec": {
   "display_name": "Python 3.9.7 ('base')",
   "language": "python",
   "name": "python3"
  },
  "language_info": {
   "codemirror_mode": {
    "name": "ipython",
    "version": 3
   },
   "file_extension": ".py",
   "mimetype": "text/x-python",
   "name": "python",
   "nbconvert_exporter": "python",
   "pygments_lexer": "ipython3",
   "version": "3.9.7"
  },
  "orig_nbformat": 4
 },
 "nbformat": 4,
 "nbformat_minor": 2
}
