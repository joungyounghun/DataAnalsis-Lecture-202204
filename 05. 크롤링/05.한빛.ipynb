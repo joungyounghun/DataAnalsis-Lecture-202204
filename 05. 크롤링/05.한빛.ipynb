{
 "cells": [
  {
   "cell_type": "code",
   "execution_count": 3,
   "metadata": {},
   "outputs": [],
   "source": [
    "import requests, re\n",
    "import pandas as pd\n",
    "from bs4 import BeautifulSoup\n",
    "from tqdm.notebook import tqdm"
   ]
  },
  {
   "cell_type": "code",
   "execution_count": 4,
   "metadata": {},
   "outputs": [],
   "source": [
    "base_url = 'https://www.hanbit.co.kr'\n",
    "sub_url = '/store/books/new_book_list.html'\n",
    "url = base_url + sub_url\n",
    "res = requests.get(url)\n",
    "soup = BeautifulSoup(res.text, 'html.parser')\n"
   ]
  },
  {
   "cell_type": "code",
   "execution_count": 5,
   "metadata": {},
   "outputs": [
    {
     "data": {
      "text/plain": [
       "20"
      ]
     },
     "execution_count": 5,
     "metadata": {},
     "output_type": "execute_result"
    }
   ],
   "source": [
    "lis = soup.select('.sub_book_list')\n",
    "len(lis)"
   ]
  },
  {
   "cell_type": "code",
   "execution_count": 6,
   "metadata": {},
   "outputs": [
    {
     "data": {
      "text/plain": [
       "'/store/books/look.php?p_code=B2831223974'"
      ]
     },
     "execution_count": 6,
     "metadata": {},
     "output_type": "execute_result"
    }
   ],
   "source": [
    "li = lis[0]\n",
    "href = li.find('a')['href']\n",
    "href"
   ]
  },
  {
   "cell_type": "markdown",
   "metadata": {},
   "source": [
    "- sub page 에서 정보를 가져옴"
   ]
  },
  {
   "cell_type": "code",
   "execution_count": 7,
   "metadata": {},
   "outputs": [],
   "source": [
    "res = requests.get(base_url + href)\n",
    "book_soup = BeautifulSoup(res.text, 'html.parser')"
   ]
  },
  {
   "cell_type": "code",
   "execution_count": 8,
   "metadata": {},
   "outputs": [
    {
     "data": {
      "text/plain": [
       "'엑셀이 편해지는 파이썬'"
      ]
     },
     "execution_count": 8,
     "metadata": {},
     "output_type": "execute_result"
    }
   ],
   "source": [
    "info = book_soup.select_one('.store_product_info_box')\n",
    "title = info.find('h3').string\n",
    "title"
   ]
  },
  {
   "cell_type": "code",
   "execution_count": 9,
   "metadata": {},
   "outputs": [
    {
     "data": {
      "text/plain": [
       "'펠릭스 춤슈타인'"
      ]
     },
     "execution_count": 9,
     "metadata": {},
     "output_type": "execute_result"
    }
   ],
   "source": [
    "book_lis = info.select('.info_list > li')\n",
    "author = book_lis[0].find('span').get_text().strip()\n",
    "author"
   ]
  },
  {
   "cell_type": "code",
   "execution_count": 10,
   "metadata": {},
   "outputs": [
    {
     "data": {
      "text/plain": [
       "'한선용'"
      ]
     },
     "execution_count": 10,
     "metadata": {},
     "output_type": "execute_result"
    }
   ],
   "source": [
    "if len(book_lis) == 5:\n",
    "    translator = '-'\n",
    "else:\n",
    "    translator = book_lis[1].find('span').get_text().strip()\n",
    "translator"
   ]
  },
  {
   "cell_type": "code",
   "execution_count": null,
   "metadata": {},
   "outputs": [],
   "source": [
    "date = book_lis[-4].find('span').get_text().strip()\n",
    "date"
   ]
  },
  {
   "cell_type": "code",
   "execution_count": null,
   "metadata": {},
   "outputs": [],
   "source": [
    "page = book_lis[-3].find('span').get_text().strip().split()[0]\n",
    "page = int(page)\n",
    "page"
   ]
  },
  {
   "cell_type": "code",
   "execution_count": 11,
   "metadata": {},
   "outputs": [
    {
     "data": {
      "text/plain": [
       "25200"
      ]
     },
     "execution_count": 11,
     "metadata": {},
     "output_type": "execute_result"
    }
   ],
   "source": [
    "payments = book_soup.select_one('.payment_box.curr').find_all('p')\n",
    "sales = payments[1].select_one('.pbr').get_text().split('(')[0]\n",
    "sales = int(re.sub('[^0-9]','',sales))\n",
    "sales"
   ]
  },
  {
   "cell_type": "code",
   "execution_count": null,
   "metadata": {},
   "outputs": [],
   "source": [
    "lines = []\n",
    "for li in lis:\n",
    "    book_url = li.find('a')['href']\n",
    "    res = requests.get(base_url + book_url)\n",
    "    book_soup = BeautifulSoup(res.text, 'html.parser')\n",
    "\n",
    "    info = book_soup.select_one('.store_product_info_box')\n",
    "    title = info.find('h3').string\n",
    "    book_lis = info.select('.info_list > li')\n",
    "    author = book_lis[0].find('span').get_text().strip()\n",
    "    if len(book_lis) == 5:\n",
    "        translator = '-'\n",
    "    else:\n",
    "        translator = book_lis[1].find('span').get_text().strip()\n",
    "    date = book_lis[-4].find('span').get_text().strip()\n",
    "    page = book_lis[-3].find('span').get_text().strip().split()[0]\n",
    "    \n",
    "    payments = book_soup.select_one('.payment_box.curr').find_all('p')\n",
    "    sales = payments[1].select_one('.pbr').get_text().split('(')[0]\n",
    "    sales = int(re.sub('[^0-9]','',sales))\n",
    "\n",
    "    lines.append([title,author,translator,date,page,sales])"
   ]
  },
  {
   "cell_type": "code",
   "execution_count": null,
   "metadata": {},
   "outputs": [],
   "source": [
    "df = pd.DataFrame(lines, columns=['제목','저자','번역','출간일','페이지','판매가'])\n",
    "df.tail()"
   ]
  },
  {
   "cell_type": "code",
   "execution_count": null,
   "metadata": {},
   "outputs": [],
   "source": [
    "lines = []\n",
    "for page in tqdm(range(1,11)):\n",
    "    url = f'{base_url}{sub_url}?page={page}'\n",
    "    res = requests.get(url)\n",
    "    soup = BeautifulSoup(res.text, 'html.parser')\n",
    "    lis = soup.select('.sub_book_list')\n",
    "\n",
    "    for li in lis:\n",
    "        book_url = li.find('a')['href']\n",
    "        res = requests.get(base_url + book_url)\n",
    "        book_soup = BeautifulSoup(res.text, 'html.parser')\n",
    "\n",
    "        info = book_soup.select_one('.store_product_info_box')\n",
    "        title = info.find('h3').string\n",
    "        book_lis = info.select('.info_list > li')\n",
    "        author = book_lis[0].find('span').get_text().strip()\n",
    "        if len(book_lis) == 5:\n",
    "            translator = '-'\n",
    "        else:\n",
    "            translator = book_lis[1].find('span').get_text().strip()\n",
    "        date = book_lis[-4].find('span').get_text().strip()\n",
    "        page = book_lis[-3].find('span').get_text().strip().split()[0]\n",
    "        \n",
    "        payments = book_soup.select_one('.payment_box.curr').find_all('p')\n",
    "        sales = payments[1].select_one('.pbr').get_text().split('(')[0]\n",
    "        sales = int(re.sub('[^0-9]','',sales))\n",
    "\n",
    "        lines.append([title,author,translator,date,page,sales])"
   ]
  },
  {
   "cell_type": "code",
   "execution_count": null,
   "metadata": {},
   "outputs": [],
   "source": [
    "df = pd.DataFrame(lines, columns=['제목','저자','번역','출간일','페이지','판매가'])\n",
    "df.tail()"
   ]
  },
  {
   "cell_type": "code",
   "execution_count": null,
   "metadata": {},
   "outputs": [],
   "source": [
    "df.to_csv('한빛신규도서.csv', index=False)"
   ]
  }
 ],
 "metadata": {
  "interpreter": {
   "hash": "b3ba2566441a7c06988d0923437866b63cedc61552a5af99d1f4fb67d367b25f"
  },
  "kernelspec": {
   "display_name": "Python 3.9.7 ('base')",
   "language": "python",
   "name": "python3"
  },
  "language_info": {
   "codemirror_mode": {
    "name": "ipython",
    "version": 3
   },
   "file_extension": ".py",
   "mimetype": "text/x-python",
   "name": "python",
   "nbconvert_exporter": "python",
   "pygments_lexer": "ipython3",
   "version": "3.9.7"
  },
  "orig_nbformat": 4
 },
 "nbformat": 4,
 "nbformat_minor": 2
}
