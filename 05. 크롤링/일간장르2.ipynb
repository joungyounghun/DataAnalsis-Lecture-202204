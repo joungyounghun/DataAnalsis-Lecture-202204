{
 "cells": [
  {
   "cell_type": "code",
   "execution_count": 1,
   "metadata": {},
   "outputs": [],
   "source": [
    "import requests\n",
    "import pandas as pd\n",
    "from bs4 import BeautifulSoup"
   ]
  },
  {
   "cell_type": "code",
   "execution_count": 4,
   "metadata": {},
   "outputs": [
    {
     "data": {
      "text/plain": [
       "''"
      ]
     },
     "execution_count": 4,
     "metadata": {},
     "output_type": "execute_result"
    }
   ],
   "source": [
    "url = 'https://www.melon.com/chart/day/index.htm'\n",
    "req = requests.get(url)\n",
    "req.text"
   ]
  },
  {
   "cell_type": "code",
   "execution_count": 3,
   "metadata": {},
   "outputs": [],
   "source": [
    "header = {'User-Agent': 'Mozilla/5.0 (Windows NT 10.0; Win64; x64) AppleWebKit/537.36 (KHTML, like Gecko) Chrome/100.0.4896.88 Safari/537.36'}\n",
    "req = requests.get(url, headers=header)\n",
    "soup = BeautifulSoup(req.text)"
   ]
  },
  {
   "cell_type": "code",
   "execution_count": 6,
   "metadata": {},
   "outputs": [
    {
     "data": {
      "text/plain": [
       "50"
      ]
     },
     "execution_count": 6,
     "metadata": {},
     "output_type": "execute_result"
    }
   ],
   "source": [
    "trs = soup.select('#lst100')\n",
    "len(trs)"
   ]
  },
  {
   "cell_type": "code",
   "execution_count": 7,
   "metadata": {},
   "outputs": [],
   "source": [
    "tr = trs[0]"
   ]
  },
  {
   "cell_type": "code",
   "execution_count": 8,
   "metadata": {},
   "outputs": [
    {
     "data": {
      "text/plain": [
       "51"
      ]
     },
     "execution_count": 8,
     "metadata": {},
     "output_type": "execute_result"
    }
   ],
   "source": [
    "try:\n",
    "    rank = int(tr.select_one('.rank').get_text().split('\\n')[0])\n",
    "except:\n",
    "    rank = 0\n",
    "rank"
   ]
  },
  {
   "cell_type": "code",
   "execution_count": 9,
   "metadata": {},
   "outputs": [
    {
     "data": {
      "text/plain": [
       "''"
      ]
     },
     "execution_count": 9,
     "metadata": {},
     "output_type": "execute_result"
    }
   ],
   "source": [
    "try:           \n",
    "    title = tr.select_one('.rank01').string.strip()\n",
    "except:     \n",
    "    title = tr.select_one('.rank01').get_text().split('\\n')[-1].strip()\n",
    "title"
   ]
  },
  {
   "cell_type": "code",
   "execution_count": 10,
   "metadata": {},
   "outputs": [
    {
     "data": {
      "text/plain": [
       "'아이유아이유'"
      ]
     },
     "execution_count": 10,
     "metadata": {},
     "output_type": "execute_result"
    }
   ],
   "source": [
    "artist = tr.select_one('.rank02').text.strip()\n",
    "artist"
   ]
  },
  {
   "cell_type": "code",
   "execution_count": 11,
   "metadata": {},
   "outputs": [
    {
     "data": {
      "text/plain": [
       "\"IU 5th Album 'LILAC'\""
      ]
     },
     "execution_count": 11,
     "metadata": {},
     "output_type": "execute_result"
    }
   ],
   "source": [
    "album = tr.select_one('.rank03').text.strip()\n",
    "album"
   ]
  },
  {
   "cell_type": "code",
   "execution_count": null,
   "metadata": {},
   "outputs": [],
   "source": [
    "rank_list, title_list, artist_list, album_list = [],[],[],[]\n",
    "for i, tr in enumerate(trs):\n",
    "    try:\n",
    "        rank = int(tr.select_one('.rank').get_text().split('\\n')[0])\n",
    "    except:\n",
    "        rank = 0\n",
    "    try:\n",
    "        title = tr.select_one('.rank01').string.strip()\n",
    "        artist = tr.select_one('.rank02').text.strip()\n",
    "        album = tr.select_one('.rank03').text.strip()\n",
    "    except:\n",
    "        print(i)\n",
    "    rank_list.append(rank)\n",
    "    title_list.append(title)\n",
    "    artist_list.append(artist)\n",
    "    album_list.append(album)"
   ]
  },
  {
   "cell_type": "code",
   "execution_count": 13,
   "metadata": {},
   "outputs": [],
   "source": [
    "rank_list, title_list, artist_list, album_list = [],[],[],[]\n",
    "for i, tr in enumerate(trs):\n",
    "    try:\n",
    "        rank = int(tr.select_one('.rank').get_text().split('\\n')[0])\n",
    "    except:\n",
    "        rank = 0\n",
    "    try:            # 일반적인 노래\n",
    "        title = tr.select_one('.rank01').string.strip()\n",
    "    except:         # 19금 노래\n",
    "        title = tr.select_one('.rank01').get_text().split('\\n')[-1].strip()\n",
    "    artist = tr.select_one('.rank02').text.strip()\n",
    "    album = tr.select_one('.rank03').text.strip()\n",
    "    rank_list.append(rank)\n",
    "    title_list.append(title)\n",
    "    artist_list.append(artist)\n",
    "    album_list.append(album)"
   ]
  },
  {
   "cell_type": "code",
   "execution_count": 14,
   "metadata": {},
   "outputs": [],
   "source": [
    "lines = []\n",
    "for i, tr in enumerate(trs):\n",
    "    try:\n",
    "        rank = int(tr.select_one('.rank').get_text().split('\\n')[0])\n",
    "    except:\n",
    "        rank = 0\n",
    "    try:            # 일반적인 노래\n",
    "        title = tr.select_one('.rank01').string.strip()\n",
    "    except:         # 19금 노래\n",
    "        title = tr.select_one('.rank01').get_text().split('\\n')[-1].strip()\n",
    "    artist = tr.select_one('.rank02').text.strip()\n",
    "    album = tr.select_one('.rank03').text.strip()\n",
    "    line = {'순위':rank, '제목':title, '아티스트':artist, '앨범':album}\n",
    "    lines.append(line)"
   ]
  },
  {
   "cell_type": "code",
   "execution_count": 15,
   "metadata": {},
   "outputs": [
    {
     "data": {
      "text/html": [
       "<div>\n",
       "<style scoped>\n",
       "    .dataframe tbody tr th:only-of-type {\n",
       "        vertical-align: middle;\n",
       "    }\n",
       "\n",
       "    .dataframe tbody tr th {\n",
       "        vertical-align: top;\n",
       "    }\n",
       "\n",
       "    .dataframe thead th {\n",
       "        text-align: right;\n",
       "    }\n",
       "</style>\n",
       "<table border=\"1\" class=\"dataframe\">\n",
       "  <thead>\n",
       "    <tr style=\"text-align: right;\">\n",
       "      <th></th>\n",
       "      <th>순위</th>\n",
       "      <th>제목</th>\n",
       "      <th>아티스트</th>\n",
       "      <th>앨범</th>\n",
       "    </tr>\n",
       "  </thead>\n",
       "  <tbody>\n",
       "    <tr>\n",
       "      <th>10</th>\n",
       "      <td>61</td>\n",
       "      <td></td>\n",
       "      <td>Ed SheeranEd Sheeran</td>\n",
       "      <td>=</td>\n",
       "    </tr>\n",
       "    <tr>\n",
       "      <th>11</th>\n",
       "      <td>62</td>\n",
       "      <td></td>\n",
       "      <td>주시크 (Joosiq)주시크 (Joosiq)</td>\n",
       "      <td>아무래도 난</td>\n",
       "    </tr>\n",
       "    <tr>\n",
       "      <th>12</th>\n",
       "      <td>63</td>\n",
       "      <td></td>\n",
       "      <td>경서경서</td>\n",
       "      <td>밤하늘의 별을(2020)</td>\n",
       "    </tr>\n",
       "    <tr>\n",
       "      <th>13</th>\n",
       "      <td>64</td>\n",
       "      <td></td>\n",
       "      <td>멜로망스멜로망스</td>\n",
       "      <td>세 번째 '고백'</td>\n",
       "    </tr>\n",
       "    <tr>\n",
       "      <th>14</th>\n",
       "      <td>65</td>\n",
       "      <td></td>\n",
       "      <td>버스커 버스커버스커 버스커</td>\n",
       "      <td>버스커 버스커 1집</td>\n",
       "    </tr>\n",
       "  </tbody>\n",
       "</table>\n",
       "</div>"
      ],
      "text/plain": [
       "    순위 제목                      아티스트             앨범\n",
       "10  61         Ed SheeranEd Sheeran              =\n",
       "11  62     주시크 (Joosiq)주시크 (Joosiq)         아무래도 난\n",
       "12  63                         경서경서  밤하늘의 별을(2020)\n",
       "13  64                     멜로망스멜로망스      세 번째 '고백'\n",
       "14  65               버스커 버스커버스커 버스커     버스커 버스커 1집"
      ]
     },
     "execution_count": 15,
     "metadata": {},
     "output_type": "execute_result"
    }
   ],
   "source": [
    "df = pd.DataFrame({'순위':rank_list, '제목':title_list,\n",
    "                '아티스트':artist_list, '앨범':album_list})\n",
    "df.head(15).tail(5)"
   ]
  },
  {
   "cell_type": "code",
   "execution_count": 16,
   "metadata": {},
   "outputs": [
    {
     "data": {
      "text/html": [
       "<div>\n",
       "<style scoped>\n",
       "    .dataframe tbody tr th:only-of-type {\n",
       "        vertical-align: middle;\n",
       "    }\n",
       "\n",
       "    .dataframe tbody tr th {\n",
       "        vertical-align: top;\n",
       "    }\n",
       "\n",
       "    .dataframe thead th {\n",
       "        text-align: right;\n",
       "    }\n",
       "</style>\n",
       "<table border=\"1\" class=\"dataframe\">\n",
       "  <thead>\n",
       "    <tr style=\"text-align: right;\">\n",
       "      <th></th>\n",
       "      <th>순위</th>\n",
       "      <th>제목</th>\n",
       "      <th>아티스트</th>\n",
       "      <th>앨범</th>\n",
       "    </tr>\n",
       "  </thead>\n",
       "  <tbody>\n",
       "    <tr>\n",
       "      <th>10</th>\n",
       "      <td>61</td>\n",
       "      <td></td>\n",
       "      <td>Ed SheeranEd Sheeran</td>\n",
       "      <td>=</td>\n",
       "    </tr>\n",
       "    <tr>\n",
       "      <th>11</th>\n",
       "      <td>62</td>\n",
       "      <td></td>\n",
       "      <td>주시크 (Joosiq)주시크 (Joosiq)</td>\n",
       "      <td>아무래도 난</td>\n",
       "    </tr>\n",
       "    <tr>\n",
       "      <th>12</th>\n",
       "      <td>63</td>\n",
       "      <td></td>\n",
       "      <td>경서경서</td>\n",
       "      <td>밤하늘의 별을(2020)</td>\n",
       "    </tr>\n",
       "    <tr>\n",
       "      <th>13</th>\n",
       "      <td>64</td>\n",
       "      <td></td>\n",
       "      <td>멜로망스멜로망스</td>\n",
       "      <td>세 번째 '고백'</td>\n",
       "    </tr>\n",
       "    <tr>\n",
       "      <th>14</th>\n",
       "      <td>65</td>\n",
       "      <td></td>\n",
       "      <td>버스커 버스커버스커 버스커</td>\n",
       "      <td>버스커 버스커 1집</td>\n",
       "    </tr>\n",
       "  </tbody>\n",
       "</table>\n",
       "</div>"
      ],
      "text/plain": [
       "    순위 제목                      아티스트             앨범\n",
       "10  61         Ed SheeranEd Sheeran              =\n",
       "11  62     주시크 (Joosiq)주시크 (Joosiq)         아무래도 난\n",
       "12  63                         경서경서  밤하늘의 별을(2020)\n",
       "13  64                     멜로망스멜로망스      세 번째 '고백'\n",
       "14  65               버스커 버스커버스커 버스커     버스커 버스커 1집"
      ]
     },
     "execution_count": 16,
     "metadata": {},
     "output_type": "execute_result"
    }
   ],
   "source": [
    "df = pd.DataFrame(lines)\n",
    "df.head(15).tail(5)"
   ]
  },
  {
   "cell_type": "code",
   "execution_count": 17,
   "metadata": {},
   "outputs": [],
   "source": [
    "df.to_csv('일간장르2.csv', index=False)"
   ]
  },
  {
   "cell_type": "code",
   "execution_count": null,
   "metadata": {},
   "outputs": [],
   "source": []
  }
 ],
 "metadata": {
  "interpreter": {
   "hash": "b3ba2566441a7c06988d0923437866b63cedc61552a5af99d1f4fb67d367b25f"
  },
  "kernelspec": {
   "display_name": "Python 3.9.7 ('base')",
   "language": "python",
   "name": "python3"
  },
  "language_info": {
   "codemirror_mode": {
    "name": "ipython",
    "version": 3
   },
   "file_extension": ".py",
   "mimetype": "text/x-python",
   "name": "python",
   "nbconvert_exporter": "python",
   "pygments_lexer": "ipython3",
   "version": "3.9.7"
  },
  "orig_nbformat": 4
 },
 "nbformat": 4,
 "nbformat_minor": 2
}
