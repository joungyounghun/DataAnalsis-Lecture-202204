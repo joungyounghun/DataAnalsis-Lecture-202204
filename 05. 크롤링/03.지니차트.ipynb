{
 "cells": [
  {
   "cell_type": "markdown",
   "metadata": {},
   "source": [
    "### 지니 Top 200 차트 "
   ]
  },
  {
   "cell_type": "code",
   "execution_count": 3,
   "metadata": {},
   "outputs": [],
   "source": [
    "import requests\n",
    "import pandas as pd\n",
    "from bs4 import BeautifulSoup"
   ]
  },
  {
   "cell_type": "code",
   "execution_count": null,
   "metadata": {},
   "outputs": [],
   "source": [
    "'Mozilla/5.0 (Windows NT 10.0; Win64; x64) AppleWebKit/537.36 (KHTML, like Gecko) Chrome/100.0.4896.88 Safari/537.36'"
   ]
  },
  {
   "cell_type": "code",
   "execution_count": 4,
   "metadata": {},
   "outputs": [
    {
     "data": {
      "text/plain": [
       "'<br>\\r\\n<br>\\r\\n<center>\\r\\n<img src=\"http://www.geniemusic.co.kr/images/common/logo_r1.png\"><br>\\r\\n<h2> <meta http-equiv=\"Content-Type\" content=\"text/html;charset=UTF-8\"> ì\\xa0\\x91ì\\x86\\x8dì\\x9a\\x94ì²\\xadì\\x9d´ ë³´ì\\x95\\x88ì\\xa0\\x95ì±\\x85ì\\x97\\x90 ì\\x9d\\x98í\\x95´ ì°¨ë\\x8b¨ë\\x90\\x98ì\\x97\\x88ì\\x8aµë\\x8b\\x88ë\\x8b¤. ë\\x8b¹ì\\x82¬ ê³\\xa0ê°\\x9dì\\x84¼í\\x84°ë¡\\x9c ë¬¸ì\\x9d\\x98í\\x95´ì£¼ì\\x8b\\xadì\\x8b\\x9cì\\x98¤.<br><br>\\r\\nThe security policy of the connection request is blocked. Contact your customer service representative.<br><br>\\r\\nì§\\x80ë\\x8b\\x88ë®¤ì§\\x81 ê³\\xa0ê°\\x9dì\\x84¼í\\x84° 1577-5337<br><br>\\r\\n</h2>\\r\\n</center>\\r\\n<br>'"
      ]
     },
     "execution_count": 4,
     "metadata": {},
     "output_type": "execute_result"
    }
   ],
   "source": [
    "url = 'https://www.genie.co.kr/chart/top200'\n",
    "req = requests.get(url)\n",
    "req.text"
   ]
  },
  {
   "cell_type": "code",
   "execution_count": 5,
   "metadata": {},
   "outputs": [],
   "source": [
    "header = {'User-Agent': 'Mozilla/5.0 (Windows NT 10.0; Win64; x64) AppleWebKit/537.36 (KHTML, like Gecko) Chrome/100.0.4896.88 Safari/537.36'}\n",
    "req = requests.get(url, headers=header)\n",
    "soup = BeautifulSoup(req.text)"
   ]
  },
  {
   "cell_type": "markdown",
   "metadata": {},
   "source": [
    "# 과제 \n",
    "\n",
    "- 지니차트 첫화면에 50곡중에서 순위,제목,가수,앨범명 을 크롤링하여 데이터 프레임을 만들고 지니차트 (20020414)Top50.csv 파일을 만들기"
   ]
  },
  {
   "cell_type": "markdown",
   "metadata": {},
   "source": [
    "### 2. 찾으려고 하는 데이터로드 찾기"
   ]
  },
  {
   "cell_type": "code",
   "execution_count": 136,
   "metadata": {},
   "outputs": [],
   "source": [
    "# 지니는 (table) \n",
    "     #       <thead></thead>\n",
    "     #       <tbody>\n",
    "      #          <tr></tr>  #이게 우리가 찾아야하는 한줄단위\n",
    "      #      <tbody>\n",
    "#</table>"
   ]
  },
  {
   "cell_type": "code",
   "execution_count": 137,
   "metadata": {},
   "outputs": [
    {
     "data": {
      "text/plain": [
       "50"
      ]
     },
     "execution_count": 137,
     "metadata": {},
     "output_type": "execute_result"
    }
   ],
   "source": [
    "trs = soup.select('tr.list')\n",
    "len(trs)"
   ]
  },
  {
   "cell_type": "code",
   "execution_count": 138,
   "metadata": {},
   "outputs": [
    {
     "data": {
      "text/plain": [
       "50"
      ]
     },
     "execution_count": 138,
     "metadata": {},
     "output_type": "execute_result"
    }
   ],
   "source": [
    "#  개발자도구에서 찾아주는 셀렉터 (selector)\n",
    "trs = soup.select('#body-content > div.newest-list > div > table > tbody > tr')\n",
    "len(trs)"
   ]
  },
  {
   "cell_type": "code",
   "execution_count": 139,
   "metadata": {},
   "outputs": [],
   "source": [
    "#body-content > div.newest-list > div > table > tbody > tr:nth-child(1)"
   ]
  },
  {
   "cell_type": "markdown",
   "metadata": {},
   "source": [
    "### 3. 여러개의 데이터중 하나를 선택해서 원하는 정보를 추출 "
   ]
  },
  {
   "cell_type": "code",
   "execution_count": 140,
   "metadata": {},
   "outputs": [],
   "source": [
    "tr=trs[12]"
   ]
  },
  {
   "cell_type": "code",
   "execution_count": 141,
   "metadata": {},
   "outputs": [
    {
     "data": {
      "text/plain": [
       "'13\\n                                        \\n                                    \\n8상승\\n\\n'"
      ]
     },
     "execution_count": 141,
     "metadata": {},
     "output_type": "execute_result"
    }
   ],
   "source": [
    "tr.select_one('.number').get_text()"
   ]
  },
  {
   "cell_type": "code",
   "execution_count": 142,
   "metadata": {},
   "outputs": [
    {
     "data": {
      "text/plain": [
       "13"
      ]
     },
     "execution_count": 142,
     "metadata": {},
     "output_type": "execute_result"
    }
   ],
   "source": [
    "try:\n",
    "    rank =int(tr.select_one('.number').get_text().split('\\n')[0])\n",
    "except:\n",
    "    rank=0\n",
    "rank\n"
   ]
  },
  {
   "cell_type": "code",
   "execution_count": 143,
   "metadata": {},
   "outputs": [
    {
     "data": {
      "text/plain": [
       "'회전목마 (Feat. Zion.T & 원슈타인) (Prod. by Slom)'"
      ]
     },
     "execution_count": 143,
     "metadata": {},
     "output_type": "execute_result"
    }
   ],
   "source": [
    "# 제목 \n",
    "# 일반적인 노래\n",
    "try:\n",
    "    title=tr.select_one('.title.ellipsis').string.strip()\n",
    "except:\n",
    "    title=tr.select_one('.title.ellipsis').get_text().split('\\n')[-1].strip()\n",
    "\n",
    "\n",
    "# 19금 노래 \n",
    "title"
   ]
  },
  {
   "cell_type": "code",
   "execution_count": 144,
   "metadata": {},
   "outputs": [
    {
     "data": {
      "text/plain": [
       "'쇼미더머니 10 Episode 2'"
      ]
     },
     "execution_count": 144,
     "metadata": {},
     "output_type": "execute_result"
    }
   ],
   "source": [
    "artist=tr.select_one('.albumtitle.ellipsis').text.strip()\n",
    "artist"
   ]
  },
  {
   "cell_type": "code",
   "execution_count": 145,
   "metadata": {},
   "outputs": [],
   "source": [
    "soup.find('albumtitle ellipsis')  # 앨범명"
   ]
  },
  {
   "cell_type": "code",
   "execution_count": 146,
   "metadata": {},
   "outputs": [
    {
     "data": {
      "text/plain": [
       "'쇼미더머니 10 Episode 2'"
      ]
     },
     "execution_count": 146,
     "metadata": {},
     "output_type": "execute_result"
    }
   ],
   "source": [
    "album=tr.select_one('.albumtitle.ellipsis').text.strip()\n",
    "album"
   ]
  },
  {
   "cell_type": "markdown",
   "metadata": {},
   "source": [
    "### 4. 한 페이지 내에 있는 정보 \n",
    "\n",
    "1. 개별 리스트로 가져오기"
   ]
  },
  {
   "cell_type": "code",
   "execution_count": 147,
   "metadata": {},
   "outputs": [
    {
     "name": "stdout",
     "output_type": "stream",
     "text": [
      "16\n"
     ]
    }
   ],
   "source": [
    "# 어디에서 오류가 발생하는지 확인\n",
    "rank_list, title_list, artist_list, album_list = [],[],[],[]\n",
    "for i, tr in enumerate(trs):\n",
    "    try:\n",
    "        rank = int(tr.select_one('.number').get_text().split('\\n')[0])\n",
    "    except:\n",
    "        rank = 0\n",
    "    try:\n",
    "        title = tr.select_one('.title.ellipsis').string.strip()\n",
    "        artist = tr.select_one('.artist.ellipsis').text.strip()\n",
    "        album = tr.select_one('.albumtitle.ellipsis').text.strip()\n",
    "    except:\n",
    "        print(i)\n",
    "    rank_list.append(rank)\n",
    "    title_list.append(title)\n",
    "    artist_list.append(artist)\n",
    "    album_list.append(album)"
   ]
  },
  {
   "cell_type": "code",
   "execution_count": 148,
   "metadata": {},
   "outputs": [],
   "source": [
    "rank_list, title_list, artist_list, album_list = [],[],[],[]\n",
    "for i, tr in enumerate(trs):\n",
    "    try:\n",
    "        rank = int(tr.select_one('.number').get_text().split('\\n')[0])\n",
    "    except:\n",
    "        rank = 0\n",
    "    try:            # 일반적인 노래\n",
    "        title = tr.select_one('.title.ellipsis').string.strip()\n",
    "    except:         # 19금 노래\n",
    "        title = tr.select_one('.title.ellipsis').get_text().split('\\n')[-1].strip()\n",
    "    artist = tr.select_one('.artist.ellipsis').text.strip()\n",
    "    album = tr.select_one('.albumtitle.ellipsis').text.strip()\n",
    "    rank_list.append(rank)\n",
    "    title_list.append(title)\n",
    "    artist_list.append(artist)\n",
    "    album_list.append(album)"
   ]
  },
  {
   "cell_type": "code",
   "execution_count": 149,
   "metadata": {},
   "outputs": [],
   "source": [
    "lines = []\n",
    "for i, tr in enumerate(trs):\n",
    "    try:\n",
    "        rank = int(tr.select_one('.number').get_text().split('\\n')[0])\n",
    "    except:\n",
    "        rank = 0\n",
    "    try:            # 일반적인 노래\n",
    "        title = tr.select_one('.title.ellipsis').string.strip()\n",
    "    except:         # 19금 노래\n",
    "        title = tr.select_one('.title.ellipsis').get_text().split('\\n')[-1].strip()\n",
    "    artist = tr.select_one('.artist.ellipsis').text.strip()\n",
    "    album = tr.select_one('.albumtitle.ellipsis').text.strip()\n",
    "    line = {'순위':rank, '제목':title, '아티스트':artist, '앨범':album}\n",
    "    lines.append(line)"
   ]
  },
  {
   "cell_type": "code",
   "execution_count": 150,
   "metadata": {},
   "outputs": [
    {
     "data": {
      "text/html": [
       "<div>\n",
       "<style scoped>\n",
       "    .dataframe tbody tr th:only-of-type {\n",
       "        vertical-align: middle;\n",
       "    }\n",
       "\n",
       "    .dataframe tbody tr th {\n",
       "        vertical-align: top;\n",
       "    }\n",
       "\n",
       "    .dataframe thead th {\n",
       "        text-align: right;\n",
       "    }\n",
       "</style>\n",
       "<table border=\"1\" class=\"dataframe\">\n",
       "  <thead>\n",
       "    <tr style=\"text-align: right;\">\n",
       "      <th></th>\n",
       "      <th>순위</th>\n",
       "      <th>제목</th>\n",
       "      <th>아티스트</th>\n",
       "      <th>앨범</th>\n",
       "    </tr>\n",
       "  </thead>\n",
       "  <tbody>\n",
       "    <tr>\n",
       "      <th>0</th>\n",
       "      <td>1</td>\n",
       "      <td>봄여름가을겨울 (Still Life)</td>\n",
       "      <td>BIGBANG (빅뱅)</td>\n",
       "      <td>봄여름가을겨울 (Still Life)</td>\n",
       "    </tr>\n",
       "    <tr>\n",
       "      <th>1</th>\n",
       "      <td>2</td>\n",
       "      <td>LOVE DIVE</td>\n",
       "      <td>IVE (아이브)</td>\n",
       "      <td>LOVE DIVE</td>\n",
       "    </tr>\n",
       "    <tr>\n",
       "      <th>2</th>\n",
       "      <td>3</td>\n",
       "      <td>TOMBOY</td>\n",
       "      <td>(여자)아이들</td>\n",
       "      <td>I NEVER DIE</td>\n",
       "    </tr>\n",
       "    <tr>\n",
       "      <th>3</th>\n",
       "      <td>4</td>\n",
       "      <td>Feel My Rhythm</td>\n",
       "      <td>Red Velvet (레드벨벳)</td>\n",
       "      <td>'The ReVe Festival 2022 - Feel My Rhythm'</td>\n",
       "    </tr>\n",
       "    <tr>\n",
       "      <th>4</th>\n",
       "      <td>5</td>\n",
       "      <td>사랑인가 봐</td>\n",
       "      <td>멜로망스 (MeloMance)</td>\n",
       "      <td>사랑인가 봐 (사내맞선 OST 스페셜 트랙)</td>\n",
       "    </tr>\n",
       "    <tr>\n",
       "      <th>5</th>\n",
       "      <td>6</td>\n",
       "      <td>GANADARA (Feat. 아이유)</td>\n",
       "      <td>박재범</td>\n",
       "      <td>GANADARA</td>\n",
       "    </tr>\n",
       "    <tr>\n",
       "      <th>6</th>\n",
       "      <td>7</td>\n",
       "      <td>취중고백</td>\n",
       "      <td>김민석 (멜로망스)</td>\n",
       "      <td>취중고백</td>\n",
       "    </tr>\n",
       "    <tr>\n",
       "      <th>7</th>\n",
       "      <td>8</td>\n",
       "      <td>듣고 싶을까</td>\n",
       "      <td>MSG워너비 (M.O.M)</td>\n",
       "      <td>듣고 싶을까</td>\n",
       "    </tr>\n",
       "    <tr>\n",
       "      <th>8</th>\n",
       "      <td>9</td>\n",
       "      <td>사랑은 늘 도망가</td>\n",
       "      <td>임영웅</td>\n",
       "      <td>신사와 아가씨 OST Part.2</td>\n",
       "    </tr>\n",
       "    <tr>\n",
       "      <th>9</th>\n",
       "      <td>10</td>\n",
       "      <td>INVU</td>\n",
       "      <td>태연 (TAEYEON)</td>\n",
       "      <td>INVU - The 3rd Album</td>\n",
       "    </tr>\n",
       "  </tbody>\n",
       "</table>\n",
       "</div>"
      ],
      "text/plain": [
       "   순위                    제목               아티스트  \\\n",
       "0   1  봄여름가을겨울 (Still Life)       BIGBANG (빅뱅)   \n",
       "1   2             LOVE DIVE          IVE (아이브)   \n",
       "2   3                TOMBOY            (여자)아이들   \n",
       "3   4        Feel My Rhythm  Red Velvet (레드벨벳)   \n",
       "4   5                사랑인가 봐   멜로망스 (MeloMance)   \n",
       "5   6  GANADARA (Feat. 아이유)                박재범   \n",
       "6   7                  취중고백         김민석 (멜로망스)   \n",
       "7   8                듣고 싶을까     MSG워너비 (M.O.M)   \n",
       "8   9             사랑은 늘 도망가                임영웅   \n",
       "9  10                  INVU       태연 (TAEYEON)   \n",
       "\n",
       "                                          앨범  \n",
       "0                       봄여름가을겨울 (Still Life)  \n",
       "1                                  LOVE DIVE  \n",
       "2                                I NEVER DIE  \n",
       "3  'The ReVe Festival 2022 - Feel My Rhythm'  \n",
       "4                   사랑인가 봐 (사내맞선 OST 스페셜 트랙)  \n",
       "5                                   GANADARA  \n",
       "6                                       취중고백  \n",
       "7                                     듣고 싶을까  \n",
       "8                         신사와 아가씨 OST Part.2  \n",
       "9                       INVU - The 3rd Album  "
      ]
     },
     "execution_count": 150,
     "metadata": {},
     "output_type": "execute_result"
    }
   ],
   "source": [
    "df = pd.DataFrame({'순위':rank_list, '제목':title_list,\n",
    "                '아티스트':artist_list, '앨범':album_list})\n",
    "df.head(10).tail(10)"
   ]
  },
  {
   "cell_type": "code",
   "execution_count": 151,
   "metadata": {},
   "outputs": [
    {
     "data": {
      "text/html": [
       "<div>\n",
       "<style scoped>\n",
       "    .dataframe tbody tr th:only-of-type {\n",
       "        vertical-align: middle;\n",
       "    }\n",
       "\n",
       "    .dataframe tbody tr th {\n",
       "        vertical-align: top;\n",
       "    }\n",
       "\n",
       "    .dataframe thead th {\n",
       "        text-align: right;\n",
       "    }\n",
       "</style>\n",
       "<table border=\"1\" class=\"dataframe\">\n",
       "  <thead>\n",
       "    <tr style=\"text-align: right;\">\n",
       "      <th></th>\n",
       "      <th>순위</th>\n",
       "      <th>제목</th>\n",
       "      <th>아티스트</th>\n",
       "      <th>앨범</th>\n",
       "    </tr>\n",
       "  </thead>\n",
       "  <tbody>\n",
       "    <tr>\n",
       "      <th>10</th>\n",
       "      <td>11</td>\n",
       "      <td>다정히 내 이름을 부르면</td>\n",
       "      <td>경서예지 &amp; 전건호</td>\n",
       "      <td>다정히 내 이름을 부르면 (경서예지 x 전건호)</td>\n",
       "    </tr>\n",
       "    <tr>\n",
       "      <th>11</th>\n",
       "      <td>12</td>\n",
       "      <td>신호등</td>\n",
       "      <td>이무진</td>\n",
       "      <td>신호등</td>\n",
       "    </tr>\n",
       "    <tr>\n",
       "      <th>12</th>\n",
       "      <td>13</td>\n",
       "      <td>회전목마 (Feat. Zion.T &amp; 원슈타인) (Prod. by Slom)</td>\n",
       "      <td>sokodomo</td>\n",
       "      <td>쇼미더머니 10 Episode 2</td>\n",
       "    </tr>\n",
       "    <tr>\n",
       "      <th>13</th>\n",
       "      <td>14</td>\n",
       "      <td>ELEVEN</td>\n",
       "      <td>IVE (아이브)</td>\n",
       "      <td>ELEVEN</td>\n",
       "    </tr>\n",
       "    <tr>\n",
       "      <th>14</th>\n",
       "      <td>15</td>\n",
       "      <td>LOVE me</td>\n",
       "      <td>BE'O (비오)</td>\n",
       "      <td>LOVE me</td>\n",
       "    </tr>\n",
       "  </tbody>\n",
       "</table>\n",
       "</div>"
      ],
      "text/plain": [
       "    순위                                          제목        아티스트  \\\n",
       "10  11                               다정히 내 이름을 부르면  경서예지 & 전건호   \n",
       "11  12                                         신호등         이무진   \n",
       "12  13  회전목마 (Feat. Zion.T & 원슈타인) (Prod. by Slom)    sokodomo   \n",
       "13  14                                      ELEVEN   IVE (아이브)   \n",
       "14  15                                     LOVE me   BE'O (비오)   \n",
       "\n",
       "                            앨범  \n",
       "10  다정히 내 이름을 부르면 (경서예지 x 전건호)  \n",
       "11                         신호등  \n",
       "12          쇼미더머니 10 Episode 2  \n",
       "13                      ELEVEN  \n",
       "14                     LOVE me  "
      ]
     },
     "execution_count": 151,
     "metadata": {},
     "output_type": "execute_result"
    }
   ],
   "source": [
    "df=pd.DataFrame(lines)\n",
    "df.head(15).tail(5)"
   ]
  },
  {
   "cell_type": "code",
   "execution_count": null,
   "metadata": {},
   "outputs": [],
   "source": [
    "lines = []\n",
    "for page in range(1,5):\n",
    "    url = f'https://www.genie.co.kr/chart/top200?ditc=D&ymd=20220415&hh=10&rtm=Y&pg={page}'\n",
    "    req = requests.get(url, headers=header)\n",
    "    soup = BeautifulSoup(req.text, 'html.parser')\n",
    "    trs = soup.select('tr.list')\n",
    "\n",
    "    for tr in trs:\n",
    "        try:\n",
    "            rank = int(tr.select_one('.number').get_text().split('\\n')[0])\n",
    "        except:\n",
    "            rank = 0\n",
    "        try:            # 일반적인 노래\n",
    "            title = tr.select_one('.title.ellipsis').string.strip()\n",
    "        except:         # 19금 노래\n",
    "            title = tr.select_one('.title.ellipsis').get_text().split('\\n')[-1].strip()\n",
    "        artist = tr.select_one('.artist.ellipsis').text.strip()\n",
    "        album = tr.select_one('.albumtitle.ellipsis').text.strip()\n",
    "        line = {'순위':rank, '제목':title, '아티스트':artist, '앨범':album}\n",
    "        lines.append(line)"
   ]
  },
  {
   "cell_type": "code",
   "execution_count": 153,
   "metadata": {},
   "outputs": [
    {
     "data": {
      "text/html": [
       "<div>\n",
       "<style scoped>\n",
       "    .dataframe tbody tr th:only-of-type {\n",
       "        vertical-align: middle;\n",
       "    }\n",
       "\n",
       "    .dataframe tbody tr th {\n",
       "        vertical-align: top;\n",
       "    }\n",
       "\n",
       "    .dataframe thead th {\n",
       "        text-align: right;\n",
       "    }\n",
       "</style>\n",
       "<table border=\"1\" class=\"dataframe\">\n",
       "  <thead>\n",
       "    <tr style=\"text-align: right;\">\n",
       "      <th></th>\n",
       "      <th>순위</th>\n",
       "      <th>제목</th>\n",
       "      <th>아티스트</th>\n",
       "      <th>앨범</th>\n",
       "    </tr>\n",
       "  </thead>\n",
       "  <tbody>\n",
       "    <tr>\n",
       "      <th>195</th>\n",
       "      <td>196</td>\n",
       "      <td>하루하루</td>\n",
       "      <td>BIGBANG (빅뱅)</td>\n",
       "      <td>Stand Up (2008 빅뱅 3rd Mini Album)</td>\n",
       "    </tr>\n",
       "    <tr>\n",
       "      <th>196</th>\n",
       "      <td>197</td>\n",
       "      <td>우리의 이야기</td>\n",
       "      <td>멜로망스 (MeloMance)</td>\n",
       "      <td>유미의 세포들 OST Part 8</td>\n",
       "    </tr>\n",
       "    <tr>\n",
       "      <th>197</th>\n",
       "      <td>198</td>\n",
       "      <td>운전만해 (We Ride)</td>\n",
       "      <td>브레이브걸스 (Brave girls)</td>\n",
       "      <td>We Ride</td>\n",
       "    </tr>\n",
       "    <tr>\n",
       "      <th>198</th>\n",
       "      <td>199</td>\n",
       "      <td>Don't Start Now</td>\n",
       "      <td>Dua Lipa</td>\n",
       "      <td>Future Nostalgia</td>\n",
       "    </tr>\n",
       "    <tr>\n",
       "      <th>199</th>\n",
       "      <td>200</td>\n",
       "      <td>Saturday Drip</td>\n",
       "      <td>NCT DREAM</td>\n",
       "      <td>Glitch Mode - The 2nd Album</td>\n",
       "    </tr>\n",
       "  </tbody>\n",
       "</table>\n",
       "</div>"
      ],
      "text/plain": [
       "      순위               제목                  아티스트  \\\n",
       "195  196             하루하루          BIGBANG (빅뱅)   \n",
       "196  197          우리의 이야기      멜로망스 (MeloMance)   \n",
       "197  198   운전만해 (We Ride)  브레이브걸스 (Brave girls)   \n",
       "198  199  Don't Start Now              Dua Lipa   \n",
       "199  200    Saturday Drip             NCT DREAM   \n",
       "\n",
       "                                    앨범  \n",
       "195  Stand Up (2008 빅뱅 3rd Mini Album)  \n",
       "196                 유미의 세포들 OST Part 8  \n",
       "197                            We Ride  \n",
       "198                   Future Nostalgia  \n",
       "199        Glitch Mode - The 2nd Album  "
      ]
     },
     "execution_count": 153,
     "metadata": {},
     "output_type": "execute_result"
    }
   ],
   "source": [
    "df = pd.DataFrame(lines)\n",
    "df.tail()"
   ]
  },
  {
   "cell_type": "code",
   "execution_count": 154,
   "metadata": {},
   "outputs": [],
   "source": [
    "df.to_csv('지니차트Top200.csv', index=False)"
   ]
  },
  {
   "cell_type": "code",
   "execution_count": null,
   "metadata": {},
   "outputs": [],
   "source": []
  }
 ],
 "metadata": {
  "interpreter": {
   "hash": "b3ba2566441a7c06988d0923437866b63cedc61552a5af99d1f4fb67d367b25f"
  },
  "kernelspec": {
   "display_name": "Python 3.9.7 ('base')",
   "language": "python",
   "name": "python3"
  },
  "language_info": {
   "codemirror_mode": {
    "name": "ipython",
    "version": 3
   },
   "file_extension": ".py",
   "mimetype": "text/x-python",
   "name": "python",
   "nbconvert_exporter": "python",
   "pygments_lexer": "ipython3",
   "version": "3.9.7"
  },
  "orig_nbformat": 4
 },
 "nbformat": 4,
 "nbformat_minor": 2
}
